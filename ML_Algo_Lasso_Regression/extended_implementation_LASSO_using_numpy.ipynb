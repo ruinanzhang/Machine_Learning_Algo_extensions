{
 "cells": [
  {
   "cell_type": "code",
   "execution_count": 8,
   "metadata": {},
   "outputs": [],
   "source": [
    "import numpy as np\n",
    "import pandas as pd\n",
    "from matplotlib import pyplot as plt\n",
    "from sklearn.model_selection import train_test_split\n",
    "import copy"
   ]
  },
  {
   "cell_type": "markdown",
   "metadata": {},
   "source": [
    "## Section 1: Using numpy extended Lasso on the Boston Housing"
   ]
  },
  {
   "cell_type": "markdown",
   "metadata": {},
   "source": [
    "In class, we implemented the Ridge Regression with L2 regularization. In the lecture, the professor also covered  Lasso regression with L1 regularization. Not like Ridge Regression that has a closed form solution, the Lasso Regression has no closed form solution to minimize \n",
    "$$E_{lasso}(w) = E_{in}(w) +\\lambda||w||_1$$\n",
    "Although $E_{lasso}(w) $ is convex, we can not take the derivative and set it to zero to find the optimal $w$"
   ]
  },
  {
   "cell_type": "markdown",
   "metadata": {},
   "source": [
    "However, it's possible to optimize the $j^{th}$ coefficient while the others remain fixed \n",
    "$$w_j^* = argmin_zE_{lasso}(w+ze_j) $$"
   ]
  },
  {
   "cell_type": "markdown",
   "metadata": {},
   "source": [
    "One way to solve optimization problems is coordinate descent, in which at each step we optimize over one component of the unknown parameter vector, fixing all other components. The descent path so obtained is a sequence of steps, each of which is parallel to a coordinate axis in Rd , hence the name. It turns out that for the Lasso optimization problem, we can find a closed form solution for optimization over a single component fixing all other components.\n"
   ]
  },
  {
   "cell_type": "markdown",
   "metadata": {},
   "source": [
    "In the Numpy code, we will implement the coordinated Descent Algorithm (taken from class slides \"Lec 04 Regularization\" page 23) \n",
    "\n",
    " - Initialize $w= (X^TX + \\lambda I)^{-1}X^Ty$\n",
    " - To decrease the cost, update the parameters one at a time: \n",
    "- for j = i to d:\n",
    "- $a_j = \\frac{2}{N} \\sum_{i=1}^{N}(x_j^{(i)})^2$\n",
    "- $c_j =  \\frac{2}{N} \\sum_{i=1}^{N}x_j^{(i)}(y^{(i)} - W^T_jx_j)^2$\n",
    "- $w_j = \\frac{(c_j+\\lambda)}{a_j}$ if $c_j < -\\lambda$ \n",
    "- $w_j = 0$ if $c_j$ is in $[-\\lambda, \\lambda]$ \n",
    "- $w_j = \\frac{(c_j-\\lambda)}{a_j}$ if $c_j > -\\lambda$"
   ]
  },
  {
   "cell_type": "code",
   "execution_count": 9,
   "metadata": {},
   "outputs": [],
   "source": [
    "def soft_threshold(x, lambd):\n",
    "#     This is the soft_threshold function, which takes in c_j and lambda values, return the corresponding w_j values\n",
    "    if x < -lambd:\n",
    "        return x+lambd\n",
    "    elif x > lambd:\n",
    "        return x-lambd\n",
    "    else:\n",
    "        return 0   "
   ]
  },
  {
   "cell_type": "code",
   "execution_count": 10,
   "metadata": {},
   "outputs": [],
   "source": [
    "# This solves the partial minimization problem with respect to theta_j for any j = 1...d.\n",
    "def partia_min_theta(x, y, theta, j):\n",
    "    lambd = 0.05\n",
    "    n = len(y)\n",
    "    selector = [i for i in range(x.shape[1]) if i != j]\n",
    "    norm_x_j = np.linalg.norm(x[:, j])\n",
    "    a = x[:, j].dot(y[:, np.newaxis] - x[:, selector].dot(theta[:, np.newaxis][selector, :]))\n",
    "    passin = lambd*n/2\n",
    "#     print(passin)\n",
    "    res = soft_threshold(a, passin)\n",
    "    return res/(norm_x_j**2)"
   ]
  },
  {
   "cell_type": "code",
   "execution_count": 11,
   "metadata": {},
   "outputs": [],
   "source": [
    "def coorddescent(x, y, theta_init,max_iter):\n",
    "#     This is our coordiante descent function, stops at max iteration.\n",
    "    theta = copy.deepcopy(theta_init)\n",
    "    theta_vals = theta\n",
    "    d = np.size(x, 1)\n",
    "    iter = 0\n",
    "    while iter < max_iter:        \n",
    "        for j in range(d):\n",
    "            min_theta_j = partia_min_theta(x, y, theta, j)\n",
    "            theta[j] = min_theta_j\n",
    "        theta_vals = np.vstack((theta_vals, theta))\n",
    "        iter += 1\n",
    "        if iter % 100 == 0:\n",
    "            print('Coordinate descent iteration', iter)\n",
    "    return theta_vals"
   ]
  },
  {
   "cell_type": "markdown",
   "metadata": {},
   "source": [
    "### Import Boston Housing data "
   ]
  },
  {
   "cell_type": "code",
   "execution_count": 12,
   "metadata": {},
   "outputs": [
    {
     "name": "stdout",
     "output_type": "stream",
     "text": [
      "The number of features is:  13\n",
      "The features:  ['CRIM' 'ZN' 'INDUS' 'CHAS' 'NOX' 'RM' 'AGE' 'DIS' 'RAD' 'TAX' 'PTRATIO'\n",
      " 'B' 'LSTAT']\n",
      "The number of exampels in our dataset:  506\n",
      "[[6.3200e-03 1.8000e+01 2.3100e+00 0.0000e+00 5.3800e-01 6.5750e+00\n",
      "  6.5200e+01 4.0900e+00 1.0000e+00 2.9600e+02 1.5300e+01 3.9690e+02\n",
      "  4.9800e+00]\n",
      " [2.7310e-02 0.0000e+00 7.0700e+00 0.0000e+00 4.6900e-01 6.4210e+00\n",
      "  7.8900e+01 4.9671e+00 2.0000e+00 2.4200e+02 1.7800e+01 3.9690e+02\n",
      "  9.1400e+00]]\n"
     ]
    }
   ],
   "source": [
    "from sklearn.datasets import load_boston\n",
    "from sklearn import preprocessing;\n",
    "\n",
    "# Import the boston dataset from sklearn\n",
    "boston_data = load_boston()\n",
    "\n",
    "X = boston_data.data\n",
    "\n",
    "y = boston_data.target.reshape(X.shape[0])\n",
    "\n",
    "# Observe the number of features and the number of labels\n",
    "print('The number of features is: ', X.shape[1])\n",
    "# Printing out the features\n",
    "print('The features: ', boston_data.feature_names)\n",
    "# The number of examples\n",
    "print('The number of exampels in our dataset: ', X.shape[0])\n",
    "#Observing the first 2 rows of the data\n",
    "print(X[0:2])"
   ]
  },
  {
   "cell_type": "code",
   "execution_count": 13,
   "metadata": {},
   "outputs": [
    {
     "name": "stdout",
     "output_type": "stream",
     "text": [
      "The shape and dtypes of X_train : (404, 13) float64\n",
      "The shape and dtypes of X_test : (102, 13) float64\n",
      "The shape and dtypes of Y_train : (404,) float64\n",
      "The shape and dtypes of Y_test : (102,) float64\n"
     ]
    }
   ],
   "source": [
    "X_train, X_test, Y_train, Y_test = train_test_split(X, y, test_size = 0.2)\n",
    "print(\"The shape and dtypes of X_train :\", X_train.shape,X_train.dtype)\n",
    "print(\"The shape and dtypes of X_test :\",X_test.shape, X_test.dtype)\n",
    "print(\"The shape and dtypes of Y_train :\", Y_train.shape,Y_train.dtype )\n",
    "print(\"The shape and dtypes of Y_test :\", Y_test.shape,Y_test.dtype)"
   ]
  },
  {
   "cell_type": "code",
   "execution_count": 14,
   "metadata": {},
   "outputs": [
    {
     "name": "stdout",
     "output_type": "stream",
     "text": [
      "Coordinate descent iteration 100\n",
      "Coordinate descent iteration 200\n",
      "Coordinate descent iteration 300\n",
      "Coordinate descent iteration 400\n",
      "Coordinate descent iteration 500\n",
      "Coordinate descent iteration 600\n",
      "Coordinate descent iteration 700\n",
      "Coordinate descent iteration 800\n",
      "Coordinate descent iteration 900\n",
      "Coordinate descent iteration 1000\n"
     ]
    }
   ],
   "source": [
    "# initial_theta = np.zeros((13,1))\n",
    "beta_init = np.zeros(np.size(X_train, 1))\n",
    "theta = coorddescent(X_train,Y_train,beta_init,1000)"
   ]
  },
  {
   "cell_type": "code",
   "execution_count": 51,
   "metadata": {},
   "outputs": [
    {
     "data": {
      "image/png": "[encoded data removed]",
      "text/plain": [
       "<Figure size 432x288 with 1 Axes>"
      ]
     },
     "metadata": {
      "needs_background": "light"
     },
     "output_type": "display_data"
    }
   ],
   "source": [
    "# Get our predicted Y valuea and plot it with actual y_test values\n",
    "# The points on the diagnoal line are the perfect prediction points\n",
    "y_pred =  X_test @ theta[50]\n",
    "import matplotlib.pyplot as plt\n",
    "plt.scatter(Y_test,y_pred)\n",
    "plt.xlabel(\"Actual Price: $Y_i$\")\n",
    "plt.ylabel(\"Predicted Price: $\\hat{Y}_i$\")\n",
    "plt.title(\"Numpy-Lasso-Boston: Predicted Price vs Actual Price: $Y_i$ vs $\\hat{Y}_i$\")\n",
    "plt.show()"
   ]
  },
  {
   "cell_type": "code",
   "execution_count": 16,
   "metadata": {},
   "outputs": [
    {
     "name": "stdout",
     "output_type": "stream",
     "text": [
      "Mean Squared Error for numpy implemented Lasso on Boston Housing:  25.774800136378158\n",
      "Mean Absolute Error for numpy implemented Lasso on Boston Housing: 3.428705880855528\n",
      "R-square, Testing for numpy implemented Lasso on Boston Housing:  0.6467594955465554\n"
     ]
    }
   ],
   "source": [
    "# We will use Sklean's library to comput MSE, MAE and R2 scores for this extention \n",
    "from sklearn.metrics import mean_squared_error, r2_score,mean_absolute_error\n",
    "mse_lasso = mean_squared_error(Y_test,y_pred)\n",
    "print('Mean Squared Error for numpy implemented Lasso on Boston Housing: ',mse_lasso)\n",
    "mae_lasso = mean_absolute_error(Y_test,y_pred)\n",
    "print('Mean Absolute Error for numpy implemented Lasso on Boston Housing:', mae_lasso )\n",
    "\n",
    "rsq_lasso = r2_score(Y_test,y_pred)\n",
    "print('R-square, Testing for numpy implemented Lasso on Boston Housing: ',rsq_lasso)"
   ]
  },
  {
   "cell_type": "markdown",
   "metadata": {},
   "source": [
    "## Section 2: Using numpy extended Lasso on NYSE Stock market data set "
   ]
  },
  {
   "cell_type": "markdown",
   "metadata": {},
   "source": [
    "### Import NYSE stock market data\n",
    "**We will choose to predict Google's stock price in this implementation**"
   ]
  },
  {
   "cell_type": "code",
   "execution_count": 37,
   "metadata": {},
   "outputs": [],
   "source": [
    "data_stock = pd.read_csv('./prices.csv')\n",
    "df_stock = data_stock.copy()\n",
    "df_stock.sample(10)\n",
    "df_stock_GOOG=df_stock[df_stock.symbol=='GOOG']\n",
    "df_stock_GOOG.head()\n",
    "forecast_col = 'close'\n",
    "forecast_out = 5\n",
    "test_size = 0.2"
   ]
  },
  {
   "cell_type": "code",
   "execution_count": 38,
   "metadata": {},
   "outputs": [],
   "source": [
    "label = df_stock_GOOG[forecast_col].shift(-forecast_out)\n",
    "# print(label)"
   ]
  },
  {
   "cell_type": "code",
   "execution_count": 47,
   "metadata": {},
   "outputs": [
    {
     "name": "stdout",
     "output_type": "stream",
     "text": [
      "The shape and dtypes of X_train2 : (1405, 4) float64\n",
      "The shape and dtypes of X_test2 : (352, 4) float64\n",
      "The shape and dtypes of Y_train2 : (1405,) float64\n",
      "The shape and dtypes of Y_test2 : (352,) float64\n"
     ]
    }
   ],
   "source": [
    "from sklearn import preprocessing;\n",
    "X2 = np.array(df_stock_GOOG[['open','low','high','volume']])\n",
    "X2_lately = X2[-forecast_out:]\n",
    "X2 = X2[:-forecast_out]\n",
    "label.dropna(inplace=True)\n",
    "y2 = np.array(label)\n",
    "# y2 = preprocessing.scale(y2)\n",
    "X_train2, X_test2, Y_train2, Y_test2 = train_test_split(X2, y2, test_size=test_size)\n",
    "print(\"The shape and dtypes of X_train2 :\", X_train2.shape,X_train2.dtype)\n",
    "print(\"The shape and dtypes of X_test2 :\",X_test2.shape, X_test2.dtype)\n",
    "print(\"The shape and dtypes of Y_train2 :\", Y_train2.shape,Y_train2.dtype )\n",
    "print(\"The shape and dtypes of Y_test2 :\", Y_test2.shape,Y_test2.dtype)"
   ]
  },
  {
   "cell_type": "code",
   "execution_count": 48,
   "metadata": {},
   "outputs": [
    {
     "name": "stdout",
     "output_type": "stream",
     "text": [
      "Coordinate descent iteration 100\n"
     ]
    }
   ],
   "source": [
    "# initial_theta = np.zeros((13,1))\n",
    "beta_init = np.zeros(np.size(X_train2, 1))\n",
    "theta2 = coorddescent(X_train2,Y_train2,beta_init,100)"
   ]
  },
  {
   "cell_type": "code",
   "execution_count": 52,
   "metadata": {},
   "outputs": [
    {
     "data": {
      "image/png": "[encoded data removed]",
      "text/plain": [
       "<Figure size 432x288 with 1 Axes>"
      ]
     },
     "metadata": {
      "needs_background": "light"
     },
     "output_type": "display_data"
    }
   ],
   "source": [
    "# Get predicted y values and compare them by plotting with actual y_test values \n",
    "y_pred2 =  X_test2 @ theta2[50]\n",
    "import matplotlib.pyplot as plt\n",
    "plt.scatter(Y_test2,y_pred2)\n",
    "plt.xlabel(\"Actual Price: $Y_i$\")\n",
    "plt.ylabel(\"Predicted Price: $\\hat{Y}_i$\")\n",
    "plt.title(\"Numpy Lasso Stock: Predicted Price vs Actual Price: $Y_i$ vs $\\hat{Y}_i$\")\n",
    "plt.show()"
   ]
  },
  {
   "cell_type": "code",
   "execution_count": 50,
   "metadata": {},
   "outputs": [
    {
     "name": "stdout",
     "output_type": "stream",
     "text": [
      "Mean Squared Error for numpy implemented Lasso on GOOGLE Stock prices:  1754.6336550318163\n",
      "Mean Absolute Error for numpy implemented Lasso GOOGLE Stock prices: 19.782385688812266\n",
      "R-square, Testing for numpy implemented Lasso GOOGLE Stock prices:  0.9413547200908585\n"
     ]
    }
   ],
   "source": [
    "from sklearn.metrics import mean_squared_error, r2_score,mean_absolute_error\n",
    "mse_lasso = mean_squared_error(Y_test2,y_pred2)\n",
    "print('Mean Squared Error for numpy implemented Lasso on GOOGLE Stock prices: ',mse_lasso)\n",
    "mae_lasso = mean_absolute_error(Y_test2,y_pred2)\n",
    "print('Mean Absolute Error for numpy implemented Lasso GOOGLE Stock prices:', mae_lasso )\n",
    "rsq_lasso = r2_score(Y_test2,y_pred2)\n",
    "print('R-square, Testing for numpy implemented Lasso GOOGLE Stock prices: ',rsq_lasso)"
   ]
  },
  {
   "cell_type": "markdown",
   "metadata": {},
   "source": [
    "## Sumary: \n",
    "**After implementing numpy extented Lasso Regression using coordinate descent on both Boston housing prices data and NYSE stock prices data (Google)**\n",
    "\n",
    "**We can see that our extension achieved:**\n",
    "\n",
    "Mean Squared Error for numpy implemented Lasso on Boston Housing:  25.774800136378158\n",
    "\n",
    "Mean Absolute Error for numpy implemented Lasso on Boston Housing: 3.428705880855528\n",
    "\n",
    "R-square, Testing for numpy implemented Lasso on Boston Housing:  0.6467594955465554\n",
    "\n",
    "**And:**\n",
    "\n",
    "Mean Squared Error for numpy implemented Lasso on GOOGLE Stock prices:  1754.6336550318163\n",
    "\n",
    "Mean Absolute Error for numpy implemented Lasso GOOGLE Stock prices: 19.782385688812266\n",
    "\n",
    "R-square, Testing for numpy implemented Lasso GOOGLE Stock prices:  0.9413547200908585\n",
    "\n",
    "\n",
    "**One reason for why Lasso on GOOGLE Stock prices's MSE is very high is becasue the y values which are the stock prices values are very large in themselves and the data has some outliers**"
   ]
  },
  {
   "cell_type": "code",
   "execution_count": null,
   "metadata": {},
   "outputs": [],
   "source": []
  }
 ],
 "metadata": {
  "kernelspec": {
   "display_name": "Python 3",
   "language": "python",
   "name": "python3"
  }
 },
 "nbformat": 4,
 "nbformat_minor": 2
}
