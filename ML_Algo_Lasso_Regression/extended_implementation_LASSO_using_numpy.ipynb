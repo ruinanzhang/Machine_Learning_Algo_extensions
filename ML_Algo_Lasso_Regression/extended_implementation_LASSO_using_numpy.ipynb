{
 "cells": [
  {
   "cell_type": "code",
   "execution_count": 640,
   "metadata": {},
   "outputs": [],
   "source": [
    "import numpy as np\n",
    "import pandas as pd\n",
    "from matplotlib import pyplot as plt\n",
    "from mpl_toolkits.mplot3d import Axes3D\n",
    "from mpl_toolkits import mplot3d\n",
    "from sklearn import linear_model\n",
    "from sklearn import datasets\n",
    "from sklearn.model_selection import train_test_split\n",
    "\n",
    "%matplotlib inline\n",
    "plt.style.use('seaborn-white')"
   ]
  },
  {
   "cell_type": "markdown",
   "metadata": {},
   "source": [
    "## Section 1: Using numpy extended Lasso on the Boston Housing"
   ]
  },
  {
   "cell_type": "code",
   "execution_count": 773,
   "metadata": {},
   "outputs": [
    {
     "name": "stdout",
     "output_type": "stream",
     "text": [
      "The number of features is:  13\n",
      "The features:  ['CRIM' 'ZN' 'INDUS' 'CHAS' 'NOX' 'RM' 'AGE' 'DIS' 'RAD' 'TAX' 'PTRATIO'\n",
      " 'B' 'LSTAT']\n",
      "The number of exampels in our dataset:  506\n",
      "[[6.3200e-03 1.8000e+01 2.3100e+00 0.0000e+00 5.3800e-01 6.5750e+00\n",
      "  6.5200e+01 4.0900e+00 1.0000e+00 2.9600e+02 1.5300e+01 3.9690e+02\n",
      "  4.9800e+00]\n",
      " [2.7310e-02 0.0000e+00 7.0700e+00 0.0000e+00 4.6900e-01 6.4210e+00\n",
      "  7.8900e+01 4.9671e+00 2.0000e+00 2.4200e+02 1.7800e+01 3.9690e+02\n",
      "  9.1400e+00]]\n"
     ]
    }
   ],
   "source": [
    "from sklearn.datasets import load_boston\n",
    "from sklearn import preprocessing;\n",
    "\n",
    "# Import the boston dataset from sklearn\n",
    "boston_data = load_boston()\n",
    "\n",
    "X = boston_data.data\n",
    "\n",
    "y = boston_data.target.reshape(X.shape[0])\n",
    "\n",
    "# Observe the number of features and the number of labels\n",
    "print('The number of features is: ', X.shape[1])\n",
    "# Printing out the features\n",
    "print('The features: ', boston_data.feature_names)\n",
    "# The number of examples\n",
    "print('The number of exampels in our dataset: ', X.shape[0])\n",
    "#Observing the first 2 rows of the data\n",
    "print(X[0:2])"
   ]
  },
  {
   "cell_type": "code",
   "execution_count": 774,
   "metadata": {},
   "outputs": [
    {
     "name": "stdout",
     "output_type": "stream",
     "text": [
      "The shape and dtypes of X_train : (404, 13) float64\n",
      "The shape and dtypes of X_test : (102, 13) float64\n",
      "The shape and dtypes of Y_train : (404,) float64\n",
      "The shape and dtypes of Y_test : (102,) float64\n",
      "[[5.36000e-02 2.10000e+01 5.64000e+00 ... 1.68000e+01 3.96900e+02\n",
      "  5.28000e+00]\n",
      " [7.05042e+00 0.00000e+00 1.81000e+01 ... 2.02000e+01 2.52000e+00\n",
      "  2.32900e+01]\n",
      " [2.73397e+00 0.00000e+00 1.95800e+01 ... 1.47000e+01 3.51850e+02\n",
      "  2.14500e+01]\n",
      " ...\n",
      " [5.11358e+01 0.00000e+00 1.81000e+01 ... 2.02000e+01 2.60000e+00\n",
      "  1.01100e+01]\n",
      " [2.99160e-01 2.00000e+01 6.96000e+00 ... 1.86000e+01 3.88650e+02\n",
      "  1.30000e+01]\n",
      " [2.81838e+00 0.00000e+00 1.81000e+01 ... 2.02000e+01 3.92920e+02\n",
      "  1.04200e+01]]\n"
     ]
    }
   ],
   "source": [
    "X_train, X_test, Y_train, Y_test = train_test_split(X, y, test_size = 0.2)\n",
    "print(\"The shape and dtypes of X_train :\", X_train.shape,X_train.dtype)\n",
    "print(\"The shape and dtypes of X_test :\",X_test.shape, X_test.dtype)\n",
    "print(\"The shape and dtypes of Y_train :\", Y_train.shape,Y_train.dtype )\n",
    "print(\"The shape and dtypes of Y_test :\", Y_test.shape,Y_test.dtype)\n",
    "print(X_train)"
   ]
  },
  {
   "cell_type": "code",
   "execution_count": 817,
   "metadata": {},
   "outputs": [],
   "source": [
    "def soft_threshold(x, lambd):\n",
    "    \"\"\"\n",
    "    \"\"\"\n",
    "    if x < -lambd:\n",
    "        return x+lambd\n",
    "    elif x > lambd:\n",
    "        return x-lambd\n",
    "    else:\n",
    "        return 0   "
   ]
  },
  {
   "cell_type": "code",
   "execution_count": 827,
   "metadata": {},
   "outputs": [],
   "source": [
    "def partia_min_theta(x, y, theta, j):\n",
    "    \"\"\"\n",
    "    Solving partial minimization problem with respect to beta_j for any j = 1...d.\n",
    "    \"\"\"\n",
    "    lambd = 0.05\n",
    "    n = len(y)\n",
    "    selector = [i for i in range(x.shape[1]) if i != j]\n",
    "    norm_x_j = np.linalg.norm(x[:, j])\n",
    "    a = x[:, j].dot(y[:, np.newaxis] - x[:, selector].dot(theta[:, np.newaxis][selector, :]))\n",
    "    passin = lambd*n/2\n",
    "#     print(passin)\n",
    "    res = soft_threshold(a, passin)\n",
    "    return res/(norm_x_j**2)"
   ]
  },
  {
   "cell_type": "code",
   "execution_count": 851,
   "metadata": {},
   "outputs": [],
   "source": [
    "def cycliccoorddescent(x, y, theta_init,max_iter):\n",
    "    \"\"\"\n",
    "    cycliccoorddescent that implements the cyclic coordinate descent algorithm. The cyclic \n",
    "    coordinate descent algorithm proceeds sequentially. At each iteration, the algorithm \n",
    "    increments the index j of the coordinate to minimize over. Then the algorithm performs \n",
    "    partial minimization with respect to the coordinate beta_j corresponding to that index. \n",
    "    After updating the coordinate beta_j , the algorithm proceeds to the next iteration. \n",
    "    The function takes as input the initial point, the initial step-size value, and the \n",
    "    maximum number of iterations. The stopping criterion is the maximum number of iterations.\n",
    "    \"\"\"\n",
    "    theta = copy.deepcopy(theta_init)\n",
    "    theta_vals = theta\n",
    "    d = np.size(x, 1)\n",
    "    iter = 0\n",
    "    while iter < max_iter:        \n",
    "        for j in range(d):\n",
    "            min_theta_j = partia_min_theta(x, y, theta, j)\n",
    "            theta[j] = min_theta_j\n",
    "        theta_vals = np.vstack((theta_vals, theta))\n",
    "        iter += 1\n",
    "        if iter % 100 == 0:\n",
    "            print('Coordinate descent iteration', iter)\n",
    "    return theta_vals"
   ]
  },
  {
   "cell_type": "code",
   "execution_count": 852,
   "metadata": {},
   "outputs": [
    {
     "name": "stdout",
     "output_type": "stream",
     "text": [
      "Coordinate descent iteration 100\n"
     ]
    }
   ],
   "source": [
    "# initial_theta = np.zeros((13,1))\n",
    "beta_init = np.zeros(np.size(X_train, 1))\n",
    "theta = cycliccoorddescent(X_train,Y_train,beta_init,100)"
   ]
  },
  {
   "cell_type": "code",
   "execution_count": 853,
   "metadata": {},
   "outputs": [
    {
     "name": "stdout",
     "output_type": "stream",
     "text": [
      "(101, 13)\n",
      "[[ 0.59576642  0.48315313  0.91320703 ...  0.10296837  0.0032967\n",
      "  -0.25794177]\n",
      " [ 0.59576642  0.48315313  0.91320703 ...  0.10296837  0.0032967\n",
      "  -0.25794177]\n",
      " [ 0.13086978  0.32305079  1.14045902 ...  0.16184245  0.00531716\n",
      "  -0.42833452]\n",
      " ...\n",
      " [-0.09775196  0.05927274 -0.05393234 ... -0.18769521  0.01478273\n",
      "  -0.47820544]\n",
      " [-0.09794886  0.05894124 -0.052213   ... -0.19188398  0.01477944\n",
      "  -0.47710402]\n",
      " [-0.09814389  0.05861312 -0.05053367 ... -0.19600437  0.01477636\n",
      "  -0.47602574]]\n"
     ]
    }
   ],
   "source": [
    "print(theta.shape)\n",
    "print(theta)\n",
    "y_pred =  X_test @ theta[50]"
   ]
  },
  {
   "cell_type": "code",
   "execution_count": 854,
   "metadata": {},
   "outputs": [
    {
     "data": {
      "image/png": "[encoded data removed]",
      "text/plain": [
       "<Figure size 432x288 with 1 Axes>"
      ]
     },
     "metadata": {},
     "output_type": "display_data"
    }
   ],
   "source": [
    "import matplotlib.pyplot as plt\n",
    "plt.scatter(Y_test,y_pred)\n",
    "plt.xlabel(\"Actual Price: $Y_i$\")\n",
    "plt.ylabel(\"Predicted Price: $\\hat{Y}_i$\")\n",
    "plt.title(\"Predicted Price vs Actual Price: $Y_i$ vs $\\hat{Y}_i$\")\n",
    "plt.show()"
   ]
  },
  {
   "cell_type": "code",
   "execution_count": 856,
   "metadata": {},
   "outputs": [
    {
     "name": "stdout",
     "output_type": "stream",
     "text": [
      "Mean Squared Error for numpy implemented Lasso:  31.20858678040423\n",
      "Mean Absolute Error for numpy implemented Lasso: 3.957240891582611\n",
      "R-square, Testing for numpy implemented Lasso:  0.6439911229460366\n"
     ]
    }
   ],
   "source": [
    "from sklearn.metrics import mean_squared_error, r2_score,mean_absolute_error\n",
    "mse_lasso = mean_squared_error(Y_test,y_pred)\n",
    "print('Mean Squared Error for numpy implemented Lasso: ',mse_lasso)\n",
    "mae_lasso = mean_absolute_error(Y_test,y_pred)\n",
    "print('Mean Absolute Error for numpy implemented Lasso:', mae_lasso )\n",
    "\n",
    "rsq_lasso = r2_score(Y_test,y_pred)\n",
    "print('R-square, Testing for numpy implemented Lasso: ',rsq_lasso)"
   ]
  },
  {
   "cell_type": "markdown",
   "metadata": {},
   "source": [
    "## Section 2: Using numpy extended Lasso on NYSE Stock market data set "
   ]
  },
  {
   "cell_type": "code",
   "execution_count": 857,
   "metadata": {},
   "outputs": [],
   "source": [
    "data_stock = pd.read_csv('./prices.csv')\n",
    "df_stock = data_stock.copy()\n",
    "df_stock.sample(10)\n",
    "df_stock_GOOG=df_stock[df_stock.symbol=='GOOG']\n",
    "df_stock_GOOG.head()\n",
    "forecast_col = 'close'\n",
    "forecast_out = 5\n",
    "test_size = 0.2"
   ]
  },
  {
   "cell_type": "code",
   "execution_count": 858,
   "metadata": {},
   "outputs": [],
   "source": [
    "label = df_stock_GOOG[forecast_col].shift(-forecast_out)\n",
    "# print(label)"
   ]
  },
  {
   "cell_type": "code",
   "execution_count": 859,
   "metadata": {},
   "outputs": [
    {
     "name": "stdout",
     "output_type": "stream",
     "text": [
      "The shape and dtypes of X_train2 : (1405, 4) float64\n",
      "The shape and dtypes of X_test2 : (352, 4) float64\n",
      "The shape and dtypes of Y_train2 : (1405,) float64\n",
      "The shape and dtypes of Y_test2 : (352,) float64\n"
     ]
    }
   ],
   "source": [
    "from sklearn import preprocessing;\n",
    "X2 = np.array(df_stock_GOOG[['open','low','high','volume']])\n",
    "\n",
    "X2_lately = X2[-forecast_out:]\n",
    "X2 = X2[:-forecast_out]\n",
    "label.dropna(inplace=True)\n",
    "y2 = np.array(label)\n",
    "X_train2, X_test2, Y_train2, Y_test2 = train_test_split(X2, y2, test_size=test_size)\n",
    "print(\"The shape and dtypes of X_train2 :\", X_train2.shape,X_train2.dtype)\n",
    "print(\"The shape and dtypes of X_test2 :\",X_test2.shape, X_test2.dtype)\n",
    "print(\"The shape and dtypes of Y_train2 :\", Y_train2.shape,Y_train2.dtype )\n",
    "print(\"The shape and dtypes of Y_test2 :\", Y_test2.shape,Y_test2.dtype)"
   ]
  },
  {
   "cell_type": "code",
   "execution_count": 865,
   "metadata": {},
   "outputs": [
    {
     "name": "stdout",
     "output_type": "stream",
     "text": [
      "Coordinate descent iteration 100\n",
      "Coordinate descent iteration 200\n",
      "Coordinate descent iteration 300\n",
      "Coordinate descent iteration 400\n",
      "Coordinate descent iteration 500\n",
      "Coordinate descent iteration 600\n",
      "Coordinate descent iteration 700\n",
      "Coordinate descent iteration 800\n",
      "Coordinate descent iteration 900\n",
      "Coordinate descent iteration 1000\n"
     ]
    }
   ],
   "source": [
    "# initial_theta = np.zeros((13,1))\n",
    "beta_init = np.zeros(np.size(X_train2, 1))\n",
    "theta2 = cycliccoorddescent(X_train2,Y_train2,beta_init,1000)"
   ]
  },
  {
   "cell_type": "code",
   "execution_count": 866,
   "metadata": {},
   "outputs": [
    {
     "name": "stdout",
     "output_type": "stream",
     "text": [
      "(1001, 4)\n",
      "[[ 9.97308788e-01  1.36771177e-04 -5.42889049e-05 -5.68458272e-09]\n",
      " [ 9.97308788e-01  1.36771177e-04 -5.42889049e-05 -5.68458272e-09]\n",
      " [ 9.97260073e-01  2.73469226e-04 -1.08468126e-04 -9.07111943e-09]\n",
      " ...\n",
      " [ 9.16734061e-01  1.32806075e-01 -5.10077679e-02  7.24813858e-08]\n",
      " [ 9.16653752e-01  1.32935654e-01 -5.10560134e-02  7.25657927e-08]\n",
      " [ 9.16573445e-01  1.33065226e-01 -5.11042533e-02  7.26501942e-08]]\n"
     ]
    }
   ],
   "source": [
    "print(theta2.shape)\n",
    "print(theta2)\n",
    "y_pred2 =  X_test2 @ theta2[2]"
   ]
  },
  {
   "cell_type": "code",
   "execution_count": 867,
   "metadata": {},
   "outputs": [
    {
     "data": {
      "image/png": "[encoded data removed]",
      "text/plain": [
       "<Figure size 432x288 with 1 Axes>"
      ]
     },
     "metadata": {},
     "output_type": "display_data"
    }
   ],
   "source": [
    "import matplotlib.pyplot as plt\n",
    "plt.scatter(Y_test2,y_pred2)\n",
    "plt.xlabel(\"Actual Price: $Y_i$\")\n",
    "plt.ylabel(\"Predicted Price: $\\hat{Y}_i$\")\n",
    "plt.title(\"Predicted Price vs Actual Price: $Y_i$ vs $\\hat{Y}_i$\")\n",
    "plt.show()"
   ]
  },
  {
   "cell_type": "code",
   "execution_count": 868,
   "metadata": {},
   "outputs": [
    {
     "name": "stdout",
     "output_type": "stream",
     "text": [
      "Mean Squared Error for numpy implemented Lasso:  593.998459138468\n",
      "Mean Absolute Error for numpy implemented Lasso: 17.653859598733185\n",
      "R-square, Testing for numpy implemented Lasso:  0.9766631063249979\n"
     ]
    }
   ],
   "source": [
    "from sklearn.metrics import mean_squared_error, r2_score,mean_absolute_error\n",
    "mse_lasso = mean_squared_error(Y_test2,y_pred2)\n",
    "print('Mean Squared Error for numpy implemented Lasso: ',mse_lasso)\n",
    "mae_lasso = mean_absolute_error(Y_test2,y_pred2)\n",
    "print('Mean Absolute Error for numpy implemented Lasso:', mae_lasso )\n",
    "\n",
    "rsq_lasso = r2_score(Y_test2,y_pred2)\n",
    "print('R-square, Testing for numpy implemented Lasso: ',rsq_lasso)"
   ]
  },
  {
   "cell_type": "code",
   "execution_count": null,
   "metadata": {},
   "outputs": [],
   "source": []
  }
 ],
 "metadata": {
  "kernelspec": {
   "display_name": "Python 3",
   "language": "python",
   "name": "python3"
  },
  "language_info": {
   "codemirror_mode": {
    "name": "ipython",
    "version": 3
   },
   "file_extension": ".py",
   "mimetype": "text/x-python",
   "name": "python",
   "nbconvert_exporter": "python",
   "pygments_lexer": "ipython3",
   "version": "3.7.3"
  }
 },
 "nbformat": 4,
 "nbformat_minor": 2
}
