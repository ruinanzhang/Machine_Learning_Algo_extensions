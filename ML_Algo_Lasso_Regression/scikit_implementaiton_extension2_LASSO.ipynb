{
 "cells": [
  {
   "cell_type": "markdown",
   "metadata": {},
   "source": [
    "## NYU Machine Learning final project Algo II - Lasso Regression - Scikit-learn Implementation"
   ]
  },
  {
   "cell_type": "code",
   "execution_count": 259,
   "metadata": {},
   "outputs": [],
   "source": [
    "import numpy as np\n",
    "import sklearn\n",
    "from sklearn.preprocessing import PolynomialFeatures\n",
    "from sklearn import preprocessing\n",
    "from sklearn.model_selection import train_test_split\n",
    "import sklearn.linear_model\n",
    "from sklearn.model_selection import KFold\n",
    "import math"
   ]
  },
  {
   "cell_type": "markdown",
   "metadata": {},
   "source": [
    "### Import Data -- Boston Housing (Dataset used in HW4)"
   ]
  },
  {
   "cell_type": "code",
   "execution_count": 260,
   "metadata": {},
   "outputs": [],
   "source": [
    "from sklearn.datasets import load_boston\n",
    "# Import the boston dataset from sklearn\n",
    "boston_data = load_boston()"
   ]
  },
  {
   "cell_type": "code",
   "execution_count": 261,
   "metadata": {},
   "outputs": [
    {
     "name": "stdout",
     "output_type": "stream",
     "text": [
      "The number of features is:  13\n",
      "The features:  ['CRIM' 'ZN' 'INDUS' 'CHAS' 'NOX' 'RM' 'AGE' 'DIS' 'RAD' 'TAX' 'PTRATIO'\n",
      " 'B' 'LSTAT']\n",
      "The number of exampels in our dataset:  506\n",
      "[[6.3200e-03 1.8000e+01 2.3100e+00 0.0000e+00 5.3800e-01 6.5750e+00\n",
      "  6.5200e+01 4.0900e+00 1.0000e+00 2.9600e+02 1.5300e+01 3.9690e+02\n",
      "  4.9800e+00]\n",
      " [2.7310e-02 0.0000e+00 7.0700e+00 0.0000e+00 4.6900e-01 6.4210e+00\n",
      "  7.8900e+01 4.9671e+00 2.0000e+00 2.4200e+02 1.7800e+01 3.9690e+02\n",
      "  9.1400e+00]]\n"
     ]
    }
   ],
   "source": [
    "X= boston.data\n",
    "y = boston.target\n",
    "#  Reshape Y to be a rank 2 matrix \n",
    "y = y.reshape(X.shape[0], 1)\n",
    "# Observe the number of features and the number of labels\n",
    "print('The number of features is: ', X.shape[1])\n",
    "# Printing out the features\n",
    "print('The features: ', boston_data.feature_names)\n",
    "# The number of examples\n",
    "print('The number of exampels in our dataset: ', X.shape[0])\n",
    "#Observing the first 2 rows of the data\n",
    "print(X[0:2])"
   ]
  },
  {
   "cell_type": "code",
   "execution_count": 262,
   "metadata": {},
   "outputs": [
    {
     "name": "stdout",
     "output_type": "stream",
     "text": [
      "The shape and dtypes of X_train : (404, 13) float64\n",
      "The shape and dtypes of X_test : (102, 13) float64\n",
      "The shape and dtypes of Y_train : (404, 1) float64\n",
      "The shape and dtypes of Y_test : (102, 1) float64\n"
     ]
    }
   ],
   "source": [
    "X_train, X_test, Y_train, Y_test = train_test_split(X, y, test_size = 0.2, random_state = 42)\n",
    "print(\"The shape and dtypes of X_train :\", X_train.shape,X_train.dtype)\n",
    "print(\"The shape and dtypes of X_test :\",X_test.shape, X_test.dtype)\n",
    "print(\"The shape and dtypes of Y_train :\", Y_train.shape,Y_train.dtype )\n",
    "print(\"The shape and dtypes of Y_test :\", Y_test.shape,Y_test.dtype)"
   ]
  },
  {
   "cell_type": "markdown",
   "metadata": {},
   "source": [
    "## Section 1 : Using scikit function that emulates the Linear Regression and Ridge Regression done in hw and running it on Boston Housing Price Dataset"
   ]
  },
  {
   "cell_type": "markdown",
   "metadata": {},
   "source": [
    "### 1.1 We first implement Linear Regression"
   ]
  },
  {
   "cell_type": "code",
   "execution_count": 263,
   "metadata": {},
   "outputs": [],
   "source": [
    "from sklearn.linear_model import LinearRegression\n",
    "linear = LinearRegression()\n",
    "linear.fit(X_train,Y_train)\n",
    "#predictions on training data\n",
    "Y_pred_train_linear = linear.predict(X_train) \n",
    "Y_pred_test_linear = linear.predict(X_test)"
   ]
  },
  {
   "cell_type": "markdown",
   "metadata": {},
   "source": [
    "Let's see how our prediction looks like: "
   ]
  },
  {
   "cell_type": "code",
   "execution_count": 283,
   "metadata": {},
   "outputs": [
    {
     "data": {
      "image/png": "[encoded data removed]",
      "text/plain": [
       "<Figure size 432x288 with 1 Axes>"
      ]
     },
     "metadata": {
      "needs_background": "light"
     },
     "output_type": "display_data"
    }
   ],
   "source": [
    "import matplotlib.pyplot as plt\n",
    "plt.scatter(Y_test,Y_pred_test_linear)\n",
    "plt.xlabel(\"Actual Price: $Y_i$\")\n",
    "plt.ylabel(\"Predicted Price: $\\hat{Y}_i$\")\n",
    "plt.title(\"Sklearn Linaer - Boston Housing: Predicted Price vs Actual Price: $Y_i$ vs $\\hat{Y}_i$\")\n",
    "plt.show()"
   ]
  },
  {
   "cell_type": "markdown",
   "metadata": {},
   "source": [
    "**Check how our linear regression model works by computing MSE and R2 score on training set and testing set:**"
   ]
  },
  {
   "cell_type": "code",
   "execution_count": 265,
   "metadata": {},
   "outputs": [
    {
     "name": "stdout",
     "output_type": "stream",
     "text": [
      "Mean Squared Error for Linear Reg:  24.291119474973613\n",
      "Mean Absolute Error: 3.189091965887853\n",
      "R-square, Training:  0.7508856358979673\n",
      "R-square, Testing:  0.6687594935356307\n"
     ]
    }
   ],
   "source": [
    "from sklearn.metrics import mean_squared_error, r2_score,mean_absolute_error\n",
    "mse_linear = mean_squared_error(Y_test,Y_pred_test_linear)\n",
    "print('Mean Squared Error for Linear Reg: ',mse_linear)\n",
    "mae_linear = mean_absolute_error(Y_test,Y_pred_test_linear)\n",
    "print('Mean Absolute Error:', mae_linear)\n",
    "rsq_train_linear = r2_score(Y_train,Y_pred_train_linear)\n",
    "print('R-square, Training: ',rsq_train_linear)\n",
    "rsq_test_linear = r2_score(Y_test,Y_pred_test_linear)\n",
    "print('R-square, Testing: ',rsq_test_linear)"
   ]
  },
  {
   "cell_type": "markdown",
   "metadata": {},
   "source": [
    "**Remember that we did Ridge regression in class with k-fold validation and found the best alpha for the housing price dataset which is alpha = 1.49, so we will use this alpha when implementing Ridge Regression from Sklearn here**"
   ]
  },
  {
   "cell_type": "code",
   "execution_count": 266,
   "metadata": {},
   "outputs": [],
   "source": [
    "from sklearn.linear_model import Ridge\n",
    "rr = Ridge(alpha=1.49) \n",
    "rr.fit(X_train,Y_train)\n",
    " #predictions on training data\n",
    "Y_pred_train_rr = rr.predict(X_train)\n",
    "#predictions on testing data\n",
    "Y_pred_rr = rr.predict(X_test) \n"
   ]
  },
  {
   "cell_type": "code",
   "execution_count": 284,
   "metadata": {},
   "outputs": [
    {
     "data": {
      "image/png": "[encoded data removed]",
      "text/plain": [
       "<Figure size 432x288 with 1 Axes>"
      ]
     },
     "metadata": {
      "needs_background": "light"
     },
     "output_type": "display_data"
    }
   ],
   "source": [
    "# We plot predicted Y (y-axis) against actual Y (x-axis). Perfect predictions will lie on the diagonal. We see the diagonal trend, suggesting a 'good' fit\n",
    "import matplotlib.pyplot as plt\n",
    "plt.scatter(Y_test,Y_pred_rr)\n",
    "plt.xlabel(\"Actual Price: $Y_i$\")\n",
    "plt.ylabel(\"Predicted Price: $\\hat{Y}_i$\")\n",
    "plt.title(\"Sklearn Ridge-Boston:Predicted Price vs Actual Price: $Y_i$ vs $\\hat{Y}_i$\")\n",
    "plt.show()"
   ]
  },
  {
   "cell_type": "code",
   "execution_count": 268,
   "metadata": {},
   "outputs": [
    {
     "name": "stdout",
     "output_type": "stream",
     "text": [
      "Mean Squared Error:  24.553226563030897\n",
      "Mean Absolute Error: 3.1283006249692216\n",
      "R-square, Training:  0.7477304908096772\n",
      "R-square, Testing:  0.6651853278951609\n"
     ]
    }
   ],
   "source": [
    "from sklearn.metrics import mean_squared_error, r2_score, mean_absolute_error\n",
    "mse_rr = mean_squared_error(Y_test,Y_pred_rr)\n",
    "print('Mean Squared Error: ',mse_rr)\n",
    "mae_rr = mean_absolute_error(Y_test,Y_pred_rr)\n",
    "print('Mean Absolute Error:', mae_rr)\n",
    "rsq_rr = r2_score(Y_train,Y_pred_train_rr)\n",
    "print('R-square, Training: ',rsq_rr)\n",
    "rsq_rr = r2_score(Y_test,Y_pred_rr)\n",
    "print('R-square, Testing: ',rsq_rr)"
   ]
  },
  {
   "cell_type": "code",
   "execution_count": 269,
   "metadata": {},
   "outputs": [
    {
     "name": "stdout",
     "output_type": "stream",
     "text": [
      "Intercept:  [24.04554258]\n",
      "Coefficients: \n",
      " [[-1.08452640e-01  3.27970388e-02  1.51860760e-04  2.47035821e+00\n",
      "  -7.82617023e+00  4.45971794e+00 -1.34078334e-02 -1.31451277e+00\n",
      "   2.46350574e-01 -1.16772669e-02 -8.09987502e-01  1.27042940e-02\n",
      "  -5.28081052e-01]]\n"
     ]
    }
   ],
   "source": [
    "#Let's get the coefficients\n",
    "print('Intercept: ',rr.intercept_) # This gives us the intercept term\n",
    "print('Coefficients: \\n',rr.coef_) # This gives us the coefficients (in the case of this model, just one coefficient)"
   ]
  },
  {
   "cell_type": "markdown",
   "metadata": {},
   "source": [
    "## Section 2: Using scikit function that includes the suggested extension (Lasso regression) and running it on Boston housing data set\n",
    "\n"
   ]
  },
  {
   "cell_type": "code",
   "execution_count": 270,
   "metadata": {},
   "outputs": [
    {
     "name": "stdout",
     "output_type": "stream",
     "text": [
      "[-0.10780131  0.03273867 -0.          2.13959948 -7.15598296  4.43957021\n",
      " -0.01290647 -1.29088008  0.24501686 -0.01176083 -0.80311532  0.012756\n",
      " -0.53287736]\n"
     ]
    }
   ],
   "source": [
    "from sklearn.linear_model import Lasso\n",
    "lasso = Lasso(alpha=0.03)\n",
    "lasso.fit(X_train,Y_train)\n",
    "#predictions on training data\n",
    "print(lasso.coef_)\n",
    "Y_pred_train_lasso = lasso.predict(X_train) \n",
    "Y_pred_test_lasso= lasso.predict(X_test)"
   ]
  },
  {
   "cell_type": "code",
   "execution_count": 271,
   "metadata": {},
   "outputs": [
    {
     "name": "stdout",
     "output_type": "stream",
     "text": [
      "<bound method BaseEstimator.get_params of Lasso(alpha=0.03, copy_X=True, fit_intercept=True, max_iter=1000,\n",
      "      normalize=False, positive=False, precompute=False, random_state=None,\n",
      "      selection='cyclic', tol=0.0001, warm_start=False)>\n"
     ]
    }
   ],
   "source": [
    "print(lasso.get_params)"
   ]
  },
  {
   "cell_type": "code",
   "execution_count": 285,
   "metadata": {},
   "outputs": [
    {
     "data": {
      "image/png": "[encoded data removed]",
      "text/plain": [
       "<Figure size 432x288 with 1 Axes>"
      ]
     },
     "metadata": {
      "needs_background": "light"
     },
     "output_type": "display_data"
    }
   ],
   "source": [
    "import matplotlib.pyplot as plt\n",
    "plt.scatter(Y_test,Y_pred_test_lasso)\n",
    "plt.xlabel(\"Actual Price: $Y_i$\")\n",
    "plt.ylabel(\"Predicted Price: $\\hat{Y}_i$\")\n",
    "plt.title(\"SKlearn-LASSO-BOSTON-housing: Predicted Price vs Actual Price: $Y_i$ vs $\\hat{Y}_i$\")\n",
    "plt.show()"
   ]
  },
  {
   "cell_type": "code",
   "execution_count": 273,
   "metadata": {},
   "outputs": [
    {
     "name": "stdout",
     "output_type": "stream",
     "text": [
      "Mean Squared Error:  24.56939612773787\n",
      "Mean Absolute Error: 3.1283006249692216\n",
      "R-square, Training:  0.7471055156716215\n",
      "R-square, Testing:  0.6649648351834783\n"
     ]
    }
   ],
   "source": [
    "from sklearn.metrics import mean_squared_error, r2_score,mean_absolute_error\n",
    "mse_lasso = mean_squared_error(Y_test,Y_pred_test_lasso)\n",
    "print('Mean Squared Error: ',mse_lasso)\n",
    "mae_lasso = mean_absolute_error(Y_test,Y_pred_test_lasso)\n",
    "print('Mean Absolute Error:', mae_rr)\n",
    "rsq_lasso = r2_score(Y_train,Y_pred_train_lasso)\n",
    "print('R-square, Training: ',rsq_lasso)\n",
    "rsq_lasso = r2_score(Y_test,Y_pred_test_lasso)\n",
    "print('R-square, Testing: ',rsq_lasso)"
   ]
  },
  {
   "cell_type": "code",
   "execution_count": 275,
   "metadata": {},
   "outputs": [
    {
     "name": "stdout",
     "output_type": "stream",
     "text": [
      "Cross validation MSE for ridge regression: 4.057003 (+/- 0.202692)\n",
      "Cross validation MSE for lasso regression: 4.038980 (+/- 0.203048)\n",
      "Cross validation MSE for linear regression: 4.249969 (+/- 0.215436)\n"
     ]
    }
   ],
   "source": [
    "from sklearn.model_selection import cross_val_score\n",
    "from sklearn import linear_model \n",
    "ridge = linear_model.Ridge()\n",
    "ridge_score = cross_val_score(ridge, X, y, cv=5,scoring = 'neg_mean_absolute_error')\n",
    "print(\"Cross validation MSE for ridge regression: %2f (+/- %2f)\" % (np.abs(ridge_score).mean(), ridge_score.std() * 0.2))\n",
    "lasso = linear_model.Lasso(alpha = 0.03)\n",
    "lasso_score = cross_val_score(lasso, X, y, cv=5,scoring = 'neg_mean_absolute_error')\n",
    "print(\"Cross validation MSE for lasso regression: %2f (+/- %2f)\" % (np.abs(lasso_score).mean(), lasso_score .std() * 0.2))\n",
    "linearreg = linear_model.LinearRegression()\n",
    "linear_score = cross_val_score(linearreg, X, y, cv=5,scoring = 'neg_mean_absolute_error')\n",
    "print(\"Cross validation MSE for linear regression: %2f (+/- %2f)\" % (np.abs(linear_score).mean(), linear_score .std() * 0.22))\n"
   ]
  },
  {
   "cell_type": "code",
   "execution_count": 286,
   "metadata": {},
   "outputs": [
    {
     "name": "stderr",
     "output_type": "stream",
     "text": [
      "/Users/kathola/anaconda3/lib/python3.7/site-packages/ipykernel_launcher.py:10: MatplotlibDeprecationWarning: Adding an axes using the same arguments as a previous axes currently reuses the earlier instance.  In a future version, a new instance will always be created and returned.  Meanwhile, this warning can be suppressed, and the future behavior ensured, by passing a unique label to each axes instance.\n",
      "  # Remove the CWD from sys.path while we load stuff.\n"
     ]
    },
    {
     "data": {
      "text/plain": [
       "Text(0.5, 1.0, 'Linear-Ridge-Lasso scores from cross validation on Boston housing dataset')"
      ]
     },
     "execution_count": 286,
     "metadata": {},
     "output_type": "execute_result"
    },
    {
     "data": {
      "image/png": "[encoded data removed]",
      "text/plain": [
       "<Figure size 432x288 with 1 Axes>"
      ]
     },
     "metadata": {
      "needs_background": "light"
     },
     "output_type": "display_data"
    }
   ],
   "source": [
    "# Plot scores We got from Cross validation\n",
    "from matplotlib import pyplot as plt\n",
    "llr_mse = np.abs(linear_score)\n",
    "rr_mse = np.abs(ridge_score)\n",
    "lar_mse = np.abs(lasso_score)\n",
    "plt.plot(llr_mse,label='Linear')\n",
    "plt.plot(rr_mse,label='Ridge')\n",
    "plt.plot(lar_mse ,label='Lasso')\n",
    "plt.legend()\n",
    "axes = plt.axes()\n",
    "# axes.set_ylim([0, 1.1])\n",
    "plt.ylabel(\"MSE\")\n",
    "plt.title(\"Linear-Ridge-Lasso scores from cross validation on Boston housing dataset\")"
   ]
  },
  {
   "cell_type": "markdown",
   "metadata": {},
   "source": [
    "## Section 3 : Using scikit function that emulates the Linear Regression and Ridge Regression done in hw and running it on NYSE Stock market data set \n",
    "Data Source: https://www.kaggle.com/dgawlik/nyse/kernels"
   ]
  },
  {
   "cell_type": "code",
   "execution_count": 250,
   "metadata": {},
   "outputs": [
    {
     "data": {
      "text/html": [
       "<div>\n",
       "<style scoped>\n",
       "    .dataframe tbody tr th:only-of-type {\n",
       "        vertical-align: middle;\n",
       "    }\n",
       "\n",
       "    .dataframe tbody tr th {\n",
       "        vertical-align: top;\n",
       "    }\n",
       "\n",
       "    .dataframe thead th {\n",
       "        text-align: right;\n",
       "    }\n",
       "</style>\n",
       "<table border=\"1\" class=\"dataframe\">\n",
       "  <thead>\n",
       "    <tr style=\"text-align: right;\">\n",
       "      <th></th>\n",
       "      <th>date</th>\n",
       "      <th>symbol</th>\n",
       "      <th>open</th>\n",
       "      <th>close</th>\n",
       "      <th>low</th>\n",
       "      <th>high</th>\n",
       "      <th>volume</th>\n",
       "    </tr>\n",
       "  </thead>\n",
       "  <tbody>\n",
       "    <tr>\n",
       "      <th>819021</th>\n",
       "      <td>2016-09-29</td>\n",
       "      <td>KLAC</td>\n",
       "      <td>69.489998</td>\n",
       "      <td>68.769997</td>\n",
       "      <td>68.430000</td>\n",
       "      <td>69.570000</td>\n",
       "      <td>3467900.0</td>\n",
       "    </tr>\n",
       "    <tr>\n",
       "      <th>762183</th>\n",
       "      <td>2016-04-19</td>\n",
       "      <td>PNW</td>\n",
       "      <td>74.930000</td>\n",
       "      <td>74.849998</td>\n",
       "      <td>74.330002</td>\n",
       "      <td>74.989998</td>\n",
       "      <td>412000.0</td>\n",
       "    </tr>\n",
       "    <tr>\n",
       "      <th>113736</th>\n",
       "      <td>2010-12-17</td>\n",
       "      <td>AXP</td>\n",
       "      <td>44.490002</td>\n",
       "      <td>44.009998</td>\n",
       "      <td>43.860001</td>\n",
       "      <td>44.840000</td>\n",
       "      <td>17301100.0</td>\n",
       "    </tr>\n",
       "    <tr>\n",
       "      <th>308877</th>\n",
       "      <td>2012-08-10</td>\n",
       "      <td>EA</td>\n",
       "      <td>13.110000</td>\n",
       "      <td>13.080000</td>\n",
       "      <td>12.950000</td>\n",
       "      <td>13.130000</td>\n",
       "      <td>3851800.0</td>\n",
       "    </tr>\n",
       "    <tr>\n",
       "      <th>753042</th>\n",
       "      <td>2016-03-23</td>\n",
       "      <td>GWW</td>\n",
       "      <td>228.199997</td>\n",
       "      <td>229.110001</td>\n",
       "      <td>227.460007</td>\n",
       "      <td>230.289993</td>\n",
       "      <td>469800.0</td>\n",
       "    </tr>\n",
       "    <tr>\n",
       "      <th>732288</th>\n",
       "      <td>2016-01-22</td>\n",
       "      <td>SRCL</td>\n",
       "      <td>115.949997</td>\n",
       "      <td>117.949997</td>\n",
       "      <td>115.489998</td>\n",
       "      <td>118.309998</td>\n",
       "      <td>396200.0</td>\n",
       "    </tr>\n",
       "    <tr>\n",
       "      <th>823490</th>\n",
       "      <td>2016-10-12</td>\n",
       "      <td>HRL</td>\n",
       "      <td>37.840000</td>\n",
       "      <td>38.110001</td>\n",
       "      <td>37.730000</td>\n",
       "      <td>38.240002</td>\n",
       "      <td>1564100.0</td>\n",
       "    </tr>\n",
       "    <tr>\n",
       "      <th>265131</th>\n",
       "      <td>2012-03-29</td>\n",
       "      <td>COP</td>\n",
       "      <td>75.199943</td>\n",
       "      <td>75.799943</td>\n",
       "      <td>74.439944</td>\n",
       "      <td>75.849944</td>\n",
       "      <td>10084900.0</td>\n",
       "    </tr>\n",
       "    <tr>\n",
       "      <th>83874</th>\n",
       "      <td>2010-09-17</td>\n",
       "      <td>ICE</td>\n",
       "      <td>106.599998</td>\n",
       "      <td>104.960003</td>\n",
       "      <td>104.870005</td>\n",
       "      <td>106.789999</td>\n",
       "      <td>3847500.0</td>\n",
       "    </tr>\n",
       "    <tr>\n",
       "      <th>401263</th>\n",
       "      <td>2013-05-22</td>\n",
       "      <td>ACN</td>\n",
       "      <td>82.970001</td>\n",
       "      <td>82.519997</td>\n",
       "      <td>82.199997</td>\n",
       "      <td>84.220001</td>\n",
       "      <td>3092700.0</td>\n",
       "    </tr>\n",
       "  </tbody>\n",
       "</table>\n",
       "</div>"
      ],
      "text/plain": [
       "              date symbol        open       close         low        high  \\\n",
       "819021  2016-09-29   KLAC   69.489998   68.769997   68.430000   69.570000   \n",
       "762183  2016-04-19    PNW   74.930000   74.849998   74.330002   74.989998   \n",
       "113736  2010-12-17    AXP   44.490002   44.009998   43.860001   44.840000   \n",
       "308877  2012-08-10     EA   13.110000   13.080000   12.950000   13.130000   \n",
       "753042  2016-03-23    GWW  228.199997  229.110001  227.460007  230.289993   \n",
       "732288  2016-01-22   SRCL  115.949997  117.949997  115.489998  118.309998   \n",
       "823490  2016-10-12    HRL   37.840000   38.110001   37.730000   38.240002   \n",
       "265131  2012-03-29    COP   75.199943   75.799943   74.439944   75.849944   \n",
       "83874   2010-09-17    ICE  106.599998  104.960003  104.870005  106.789999   \n",
       "401263  2013-05-22    ACN   82.970001   82.519997   82.199997   84.220001   \n",
       "\n",
       "            volume  \n",
       "819021   3467900.0  \n",
       "762183    412000.0  \n",
       "113736  17301100.0  \n",
       "308877   3851800.0  \n",
       "753042    469800.0  \n",
       "732288    396200.0  \n",
       "823490   1564100.0  \n",
       "265131  10084900.0  \n",
       "83874    3847500.0  \n",
       "401263   3092700.0  "
      ]
     },
     "execution_count": 250,
     "metadata": {},
     "output_type": "execute_result"
    }
   ],
   "source": [
    "data_stock = pd.read_csv('./prices.csv')\n",
    "df_stock = data_stock.copy()\n",
    "df_stock.sample(10)"
   ]
  },
  {
   "cell_type": "code",
   "execution_count": 276,
   "metadata": {},
   "outputs": [],
   "source": [
    "df_stock_GOOG=df_stock[df_stock.symbol=='GOOG']\n",
    "df_stock_GOOG.head()\n",
    "forecast_col = 'close'\n",
    "forecast_out = 5\n",
    "test_size = 0.2"
   ]
  },
  {
   "cell_type": "code",
   "execution_count": 277,
   "metadata": {},
   "outputs": [],
   "source": [
    "label = df_stock_GOOG[forecast_col].shift(-forecast_out)\n",
    "# print(label)"
   ]
  },
  {
   "cell_type": "code",
   "execution_count": 278,
   "metadata": {},
   "outputs": [],
   "source": [
    "from sklearn import preprocessing;\n",
    "X2 = np.array(df_stock_GOOG[['open','low','high','volume']])\n",
    "X2 = preprocessing.scale(X2)\n",
    "X2_lately = X2[-forecast_out:]\n",
    "X2 = X2[:-forecast_out]\n",
    "label.dropna(inplace=True)\n",
    "y2 = np.array(label)\n",
    "X_train2, X_test2, Y_train2, Y_test2 = train_test_split(X2, y2, test_size=test_size)\n",
    "linear2 = LinearRegression()\n",
    "linear2.fit(X_train2,Y_train2)\n",
    "#predictions on training data\n",
    "Y_pred_train_linear2 = linear2.predict(X_train2) \n",
    "Y_pred_test_linear2 = linear2.predict(X_test2)"
   ]
  },
  {
   "cell_type": "code",
   "execution_count": 279,
   "metadata": {},
   "outputs": [
    {
     "name": "stdout",
     "output_type": "stream",
     "text": [
      "The shape and dtypes of X_train2 : (1405, 4) float64\n",
      "The shape and dtypes of X_test2 : (352, 4) float64\n",
      "The shape and dtypes of Y_train2 : (1405,) float64\n",
      "The shape and dtypes of Y_test2 : (352,) float64\n"
     ]
    }
   ],
   "source": [
    "print(\"The shape and dtypes of X_train2 :\", X_train2.shape,X_train2.dtype)\n",
    "print(\"The shape and dtypes of X_test2 :\",X_test2.shape, X_test2.dtype)\n",
    "print(\"The shape and dtypes of Y_train2 :\", Y_train2.shape,Y_train2.dtype )\n",
    "print(\"The shape and dtypes of Y_test2 :\", Y_test2.shape,Y_test2.dtype)"
   ]
  },
  {
   "cell_type": "code",
   "execution_count": 287,
   "metadata": {},
   "outputs": [
    {
     "data": {
      "image/png": "[encoded data removed]",
      "text/plain": [
       "<Figure size 432x288 with 1 Axes>"
      ]
     },
     "metadata": {
      "needs_background": "light"
     },
     "output_type": "display_data"
    }
   ],
   "source": [
    "plt.scatter(Y_test2,Y_pred_test_linear2)\n",
    "plt.xlabel(\"Actual Price: $Y_i$\")\n",
    "plt.ylabel(\"Predicted Price: $\\hat{Y}_i$\")\n",
    "plt.title(\"SKlearn Linear STOCK: Predicted Price vs Actual Price: $Y_i$ vs $\\hat{Y}_i$\")\n",
    "plt.show()"
   ]
  },
  {
   "cell_type": "code",
   "execution_count": 281,
   "metadata": {},
   "outputs": [
    {
     "name": "stdout",
     "output_type": "stream",
     "text": [
      "Mean Squared Error for Linear Reg:  3550.004564181162\n",
      "Mean Absolute Error: 22.22839978625532\n",
      "R-square, Training:  0.959683680028728\n",
      "R-square, Testing:  0.8565878906277042\n"
     ]
    }
   ],
   "source": [
    "from sklearn.metrics import mean_squared_error, r2_score,mean_absolute_error\n",
    "mse_linear2 = mean_squared_error(Y_test2,Y_pred_test_linear2)\n",
    "print('Mean Squared Error for Linear Reg: ',mse_linear2)\n",
    "mae_linear2 = mean_absolute_error(Y_test2,Y_pred_test_linear2)\n",
    "print('Mean Absolute Error:', mae_linear2)\n",
    "rsq_train_linear2 = r2_score(Y_train2,Y_pred_train_linear2)\n",
    "print('R-square, Training: ',rsq_train_linear2)\n",
    "rsq_test_linear2 = r2_score(Y_test2,Y_pred_test_linear2)\n",
    "print('R-square, Testing: ',rsq_test_linear2)"
   ]
  },
  {
   "cell_type": "markdown",
   "metadata": {},
   "source": [
    "**Let's implement Ridge regression on our dataset**"
   ]
  },
  {
   "cell_type": "code",
   "execution_count": 289,
   "metadata": {},
   "outputs": [],
   "source": [
    "rr2 = Ridge(alpha=1) \n",
    "rr2.fit(X_train2,Y_train2)\n",
    " #predictions on training data\n",
    "Y_pred_train_rr2 = rr2.predict(X_train2)\n",
    "#predictions on testing data\n",
    "Y_pred__test_rr2 = rr2.predict(X_test2) "
   ]
  },
  {
   "cell_type": "code",
   "execution_count": 290,
   "metadata": {},
   "outputs": [
    {
     "data": {
      "image/png": "[encoded data removed]",
      "text/plain": [
       "<Figure size 432x288 with 1 Axes>"
      ]
     },
     "metadata": {
      "needs_background": "light"
     },
     "output_type": "display_data"
    }
   ],
   "source": [
    "import matplotlib.pyplot as plt\n",
    "plt.scatter(Y_test2,Y_pred__test_rr2)\n",
    "plt.xlabel(\"Actual Price: $Y_i$\")\n",
    "plt.ylabel(\"Predicted Price: $\\hat{Y}_i$\")\n",
    "plt.title(\"Sklearn Ridge Stock: Predicted Price vs Actual Price: $Y_i$ vs $\\hat{Y}_i$\")\n",
    "plt.show()"
   ]
  },
  {
   "cell_type": "code",
   "execution_count": 161,
   "metadata": {},
   "outputs": [
    {
     "name": "stdout",
     "output_type": "stream",
     "text": [
      "Mean Squared Error:  1371.8239861528627\n",
      "Mean Absolute Error: 17.77987824742258\n",
      "R-square, Training:  0.9382176776812364\n",
      "R-square, Testing:  0.9431199096804976\n"
     ]
    }
   ],
   "source": [
    "mse_rr2 = mean_squared_error(Y_test2,Y_pred__test_rr2)\n",
    "print('Mean Squared Error: ',mse_rr2)\n",
    "mae_rr2 = mean_absolute_error(Y_test2,Y_pred__test_rr2)\n",
    "print('Mean Absolute Error:', mae_rr2)\n",
    "rsq_rr2 = r2_score(Y_train2,Y_pred_train_rr2)\n",
    "print('R-square, Training: ',rsq_rr2)\n",
    "rsq_rr2 = r2_score(Y_test2,Y_pred__test_rr2)\n",
    "print('R-square, Testing: ',rsq_rr2)"
   ]
  },
  {
   "cell_type": "markdown",
   "metadata": {},
   "source": [
    "**LASSO**"
   ]
  },
  {
   "cell_type": "code",
   "execution_count": 292,
   "metadata": {},
   "outputs": [
    {
     "name": "stdout",
     "output_type": "stream",
     "text": [
      "[-30.78162632 175.42850855  12.60341629  -0.46986385]\n"
     ]
    },
    {
     "name": "stderr",
     "output_type": "stream",
     "text": [
      "/Users/kathola/anaconda3/lib/python3.7/site-packages/sklearn/linear_model/coordinate_descent.py:475: ConvergenceWarning: Objective did not converge. You might want to increase the number of iterations. Duality gap: 430252.90724296897, tolerance: 3621.896198771147\n",
      "  positive)\n"
     ]
    }
   ],
   "source": [
    "lasso2 = Lasso(alpha=0.03)\n",
    "lasso2.fit(X_train2,Y_train2)\n",
    "#predictions on training data\n",
    "print(lasso2.coef_)\n",
    "Y_pred_train_lasso2 = lasso2.predict(X_train2) \n",
    "Y_pred_test_lasso2= lasso2.predict(X_test2)"
   ]
  },
  {
   "cell_type": "code",
   "execution_count": 293,
   "metadata": {},
   "outputs": [
    {
     "data": {
      "image/png": "[encoded data removed]",
      "text/plain": [
       "<Figure size 432x288 with 1 Axes>"
      ]
     },
     "metadata": {
      "needs_background": "light"
     },
     "output_type": "display_data"
    }
   ],
   "source": [
    "import matplotlib.pyplot as plt\n",
    "plt.scatter(Y_test2,Y_pred_test_lasso2)\n",
    "plt.xlabel(\"Actual Price: $Y_i$\")\n",
    "plt.ylabel(\"Predicted Price: $\\hat{Y}_i$\")\n",
    "plt.title(\"SKlearn Lasso Stock: Predicted Price vs Actual Price: $Y_i$ vs $\\hat{Y}_i$\")\n",
    "plt.show()"
   ]
  },
  {
   "cell_type": "code",
   "execution_count": 182,
   "metadata": {},
   "outputs": [
    {
     "name": "stdout",
     "output_type": "stream",
     "text": [
      "Mean Squared Error:  1362.906956925721\n",
      "Mean Absolute Error: 17.77987824742258\n",
      "R-square, Training:  0.9379935614307457\n",
      "R-square, Testing:  0.9434896374538425\n"
     ]
    }
   ],
   "source": [
    "mse_lasso2 = mean_squared_error(Y_test2,Y_pred_test_lasso2)\n",
    "print('Mean Squared Error: ',mse_lasso2)\n",
    "mae_lasso2 = mean_absolute_error(Y_test2,Y_pred_test_lasso2)\n",
    "print('Mean Absolute Error:', mae_rr2)\n",
    "rsq_lasso2 = r2_score(Y_train2,Y_pred_train_lasso2)\n",
    "print('R-square, Training: ',rsq_lasso2)\n",
    "rsq_lasso2 = r2_score(Y_test2,Y_pred_test_lasso2)\n",
    "print('R-square, Testing: ',rsq_lasso2)"
   ]
  },
  {
   "cell_type": "code",
   "execution_count": 207,
   "metadata": {},
   "outputs": [
    {
     "name": "stdout",
     "output_type": "stream",
     "text": [
      "Cross validation MSE for ridge regression: 0.626601 (+/- 0.079034)\n",
      "Cross validation MSE for lasso regression: 0.624466 (+/- 0.078212)\n",
      "Cross validation MSE for linear regression: 0.622196 (+/- 0.077433)\n"
     ]
    },
    {
     "name": "stderr",
     "output_type": "stream",
     "text": [
      "/Users/kathola/anaconda3/lib/python3.7/site-packages/sklearn/linear_model/coordinate_descent.py:475: ConvergenceWarning: Objective did not converge. You might want to increase the number of iterations. Duality gap: 858690.5965926461, tolerance: 3763.716653968204\n",
      "  positive)\n",
      "/Users/kathola/anaconda3/lib/python3.7/site-packages/sklearn/linear_model/coordinate_descent.py:475: ConvergenceWarning: Objective did not converge. You might want to increase the number of iterations. Duality gap: 850673.1872192778, tolerance: 4182.948315066188\n",
      "  positive)\n",
      "/Users/kathola/anaconda3/lib/python3.7/site-packages/sklearn/linear_model/coordinate_descent.py:475: ConvergenceWarning: Objective did not converge. You might want to increase the number of iterations. Duality gap: 273197.280655348, tolerance: 1198.5541473697658\n",
      "  positive)\n",
      "/Users/kathola/anaconda3/lib/python3.7/site-packages/sklearn/linear_model/coordinate_descent.py:475: ConvergenceWarning: Objective did not converge. You might want to increase the number of iterations. Duality gap: 167359.98049777164, tolerance: 3795.3336347806217\n",
      "  positive)\n",
      "/Users/kathola/anaconda3/lib/python3.7/site-packages/sklearn/linear_model/coordinate_descent.py:475: ConvergenceWarning: Objective did not converge. You might want to increase the number of iterations. Duality gap: 875435.2350278506, tolerance: 4253.705175807471\n",
      "  positive)\n"
     ]
    }
   ],
   "source": [
    "\n",
    "ridge2 = linear_model.Ridge()\n",
    "ridge_score2 = cross_val_score(ridge2, X2, y2, cv=5,scoring = 'r2')\n",
    "print(\"Cross validation MSE for ridge regression: %2f (+/- %2f)\" % (ridge_score2.mean(), ridge_score2.std() * 0.2))\n",
    "lasso2 = linear_model.Lasso(alpha=0.03)\n",
    "lasso_score2 = cross_val_score(lasso2, X2, y2, cv=5,scoring = 'r2')\n",
    "print(\"Cross validation MSE for lasso regression: %2f (+/- %2f)\" % (lasso_score2.mean(), lasso_score2.std() * 0.2))\n",
    "linearreg2 = linear_model.LinearRegression()\n",
    "linear_score2 = cross_val_score(linearreg2, X2, y2, cv=5,scoring = 'r2')\n",
    "print(\"Cross validation MSE for linear regression: %2f (+/- %2f)\" % (linear_score2.mean(), linear_score2 .std() * 0.2))\n"
   ]
  },
  {
   "cell_type": "code",
   "execution_count": 208,
   "metadata": {},
   "outputs": [
    {
     "name": "stderr",
     "output_type": "stream",
     "text": [
      "/Users/kathola/anaconda3/lib/python3.7/site-packages/ipykernel_launcher.py:10: MatplotlibDeprecationWarning: Adding an axes using the same arguments as a previous axes currently reuses the earlier instance.  In a future version, a new instance will always be created and returned.  Meanwhile, this warning can be suppressed, and the future behavior ensured, by passing a unique label to each axes instance.\n",
      "  # Remove the CWD from sys.path while we load stuff.\n"
     ]
    },
    {
     "data": {
      "text/plain": [
       "Text(0.5, 1.0, 'Linear-Ridge-Lasso MSE from cross validation on Boston housing dataset')"
      ]
     },
     "execution_count": 208,
     "metadata": {},
     "output_type": "execute_result"
    },
    {
     "data": {
      "image/png": "[encoded data removed]",
      "text/plain": [
       "<Figure size 432x288 with 1 Axes>"
      ]
     },
     "metadata": {
      "needs_background": "light"
     },
     "output_type": "display_data"
    }
   ],
   "source": [
    "# Plot scores We got from Cross validation\n",
    "from matplotlib import pyplot as plt\n",
    "llr_mse = np.abs(linear_score2)\n",
    "rr_mse = np.abs(ridge_score2)\n",
    "lar_mse = np.abs(lasso_score2)\n",
    "plt.plot(llr_mse,label='Linear')\n",
    "plt.plot(rr_mse,label='Ridge')\n",
    "plt.plot(lar_mse ,label='Lasso')\n",
    "plt.legend()\n",
    "axes = plt.axes()\n",
    "# axes.set_ylim([0, 1.1])\n",
    "plt.ylabel(\"MSE\")\n",
    "plt.title(\"Linear-Ridge-Lasso MSE from cross validation on Boston housing dataset\")"
   ]
  },
  {
   "cell_type": "code",
   "execution_count": null,
   "metadata": {},
   "outputs": [],
   "source": []
  },
  {
   "cell_type": "code",
   "execution_count": null,
   "metadata": {},
   "outputs": [],
   "source": []
  }
 ],
 "metadata": {
  "kernelspec": {
   "display_name": "Python 3",
   "language": "python",
   "name": "python3"
  },
  "language_info": {
   "codemirror_mode": {
    "name": "ipython",
    "version": 3
   },
   "file_extension": ".py",
   "mimetype": "text/x-python",
   "name": "python",
   "nbconvert_exporter": "python",
   "pygments_lexer": "ipython3",
   "version": "3.7.3"
  }
 },
 "nbformat": 4,
 "nbformat_minor": 2
}
