{
 "cells": [
  {
   "cell_type": "markdown",
   "metadata": {},
   "source": [
    "# Neural Network from Scratch\n",
    "Code modified from https://github.com/adventuresinML/adventures-in-ml-code/blob/master/neural_network_tutorial.py\n",
    "\n",
    "The notation in this website is almost the same as the notation we are using in class.  Instead of $a$ the author uses $h$, and instead of $N$, the author uses $m$. (I have modified the code below to use $a$ and $N$.)\n",
    "\n",
    "Please read about this implementation starting at page 27 from the website listed above."
   ]
  },
  {
   "cell_type": "code",
   "execution_count": 166,
   "metadata": {},
   "outputs": [],
   "source": [
    "from sklearn.datasets import load_digits # The MNIST data set is in scikit learn data set\n",
    "from sklearn.preprocessing import StandardScaler  # It is important in neural networks to scale the date\n",
    "from sklearn.model_selection import train_test_split  # The standard - train/test to prevent overfitting and choose hyperparameters\n",
    "from sklearn.metrics import accuracy_score # \n",
    "import numpy as np\n",
    "import numpy.random as r # We will randomly initialize our weights\n",
    "import matplotlib.pyplot as plt \n",
    "import argparse\n",
    "import pickle"
   ]
  },
  {
   "cell_type": "markdown",
   "metadata": {},
   "source": [
    "# 1.data from homework"
   ]
  },
  {
   "cell_type": "markdown",
   "metadata": {},
   "source": [
    "# 1.1 Code from homework"
   ]
  },
  {
   "cell_type": "code",
   "execution_count": 167,
   "metadata": {},
   "outputs": [
    {
     "data": {
      "text/plain": [
       "<Figure size 432x288 with 0 Axes>"
      ]
     },
     "metadata": {},
     "output_type": "display_data"
    },
    {
     "data": {
      "image/png": "[encoded data removed]",
      "text/plain": [
       "<Figure size 288x288 with 1 Axes>"
      ]
     },
     "metadata": {
      "needs_background": "light"
     },
     "output_type": "display_data"
    }
   ],
   "source": [
    "## data from http://yann.lecun.com/exdb/mnist/\n",
    "import gzip\n",
    "def extract_data(filename, num_images, IMAGE_WIDTH):\n",
    "    with gzip.open(filename) as bytestream:\n",
    "        bytestream.read(16)\n",
    "        buf = bytestream.read(IMAGE_WIDTH * IMAGE_WIDTH * num_images)\n",
    "        data = np.frombuffer(buf, dtype=np.uint8).astype(np.float32)\n",
    "        data = data.reshape(num_images, IMAGE_WIDTH*IMAGE_WIDTH)\n",
    "        return data\n",
    "\n",
    "def extract_labels(filename, num_images):\n",
    "    with gzip.open(filename) as bytestream:\n",
    "        bytestream.read(8)\n",
    "        buf = bytestream.read(1 * num_images)\n",
    "        labels = np.frombuffer(buf, dtype=np.uint8).astype(np.int64)\n",
    "    return labels\n",
    "    #m =50\n",
    "    #digits = load_digits()\n",
    "    #X = digits.data\n",
    "num_data = 500\n",
    "X = extract_data('train-images-idx3-ubyte.gz', num_data, 28)\n",
    "\n",
    "y = extract_labels('train-labels-idx1-ubyte.gz', num_data)\n",
    "    #y_dash = np.array([[yy] for yy in digits.target])\n",
    "    #y_dash = extract_labels('train-labels-idx1-ubyte.gz', m).reshape(m,1)\n",
    "X = X.reshape(int(num_data*784/28/28),28,28)\n",
    "plt.gray()\n",
    "plt.matshow(X[0])\n",
    "plt.show()"
   ]
  },
  {
   "cell_type": "code",
   "execution_count": 168,
   "metadata": {},
   "outputs": [
    {
     "name": "stdout",
     "output_type": "stream",
     "text": [
      "The shape of the digits dataset:\n",
      "(1797, 64)\n"
     ]
    },
    {
     "data": {
      "text/plain": [
       "<Figure size 432x288 with 0 Axes>"
      ]
     },
     "metadata": {},
     "output_type": "display_data"
    },
    {
     "data": {
      "image/png": "[encoded data removed]",
      "text/plain": [
       "<Figure size 288x288 with 1 Axes>"
      ]
     },
     "metadata": {
      "needs_background": "light"
     },
     "output_type": "display_data"
    },
    {
     "name": "stdout",
     "output_type": "stream",
     "text": [
      "[0]\n",
      "[ 0.  0.  5. 13.  9.  1.  0.  0.  0.  0. 13. 15. 10. 15.  5.  0.  0.  3.\n",
      " 15.  2.  0. 11.  8.  0.  0.  4. 12.  0.  0.  8.  8.  0.  0.  5.  8.  0.\n",
      "  0.  9.  8.  0.  0.  4. 11.  0.  1. 12.  7.  0.  0.  2. 14.  5. 10. 12.\n",
      "  0.  0.  0.  0.  6. 13. 10.  0.  0.  0.]\n"
     ]
    }
   ],
   "source": [
    "digits=load_digits()\n",
    "X = digits.data\n",
    "print(\"The shape of the digits dataset:\") \n",
    "print(digits.data.shape)\n",
    "plt.gray()\n",
    "plt.matshow(digits.images[0])\n",
    "plt.show()\n",
    "y = digits.target\n",
    "print(y[0:1])\n",
    "print(X[0,:])"
   ]
  },
  {
   "cell_type": "markdown",
   "metadata": {},
   "source": [
    "Scale the dataset"
   ]
  },
  {
   "cell_type": "code",
   "execution_count": 169,
   "metadata": {},
   "outputs": [
    {
     "data": {
      "text/plain": [
       "(1797, 64)"
      ]
     },
     "execution_count": 169,
     "metadata": {},
     "output_type": "execute_result"
    }
   ],
   "source": [
    "X.shape"
   ]
  },
  {
   "cell_type": "code",
   "execution_count": 170,
   "metadata": {},
   "outputs": [
    {
     "data": {
      "text/plain": [
       "(1797,)"
      ]
     },
     "execution_count": 170,
     "metadata": {},
     "output_type": "execute_result"
    }
   ],
   "source": [
    "y.shape"
   ]
  },
  {
   "cell_type": "code",
   "execution_count": 171,
   "metadata": {},
   "outputs": [
    {
     "data": {
      "text/plain": [
       "array([ 0.        , -0.33501649, -0.04308102,  0.27407152, -0.66447751,\n",
       "       -0.84412939, -0.40972392, -0.12502292, -0.05907756, -0.62400926,\n",
       "        0.4829745 ,  0.75962245, -0.05842586,  1.12772113,  0.87958306,\n",
       "       -0.13043338, -0.04462507,  0.11144272,  0.89588044, -0.86066632,\n",
       "       -1.14964846,  0.51547187,  1.90596347, -0.11422184, -0.03337973,\n",
       "        0.48648928,  0.46988512, -1.49990136, -1.61406277,  0.07639777,\n",
       "        1.54181413, -0.04723238,  0.        ,  0.76465553,  0.05263019,\n",
       "       -1.44763006, -1.73666443,  0.04361588,  1.43955804,  0.        ,\n",
       "       -0.06134367,  0.8105536 ,  0.63011714, -1.12245711, -1.06623158,\n",
       "        0.66096475,  0.81845076, -0.08874162, -0.03543326,  0.74211893,\n",
       "        1.15065212, -0.86867056,  0.11012973,  0.53761116, -0.75743581,\n",
       "       -0.20978513, -0.02359646, -0.29908135,  0.08671869,  0.20829258,\n",
       "       -0.36677122, -1.14664746, -0.5056698 , -0.19600752])"
      ]
     },
     "execution_count": 171,
     "metadata": {},
     "output_type": "execute_result"
    }
   ],
   "source": [
    "X_scale = StandardScaler()\n",
    "X = X_scale.fit_transform(digits.data)\n",
    "\n",
    "X[0,:] # Looking the new features after scaling\n"
   ]
  },
  {
   "cell_type": "markdown",
   "metadata": {},
   "source": [
    "Creating training and test datasets"
   ]
  },
  {
   "cell_type": "code",
   "execution_count": 172,
   "metadata": {},
   "outputs": [],
   "source": [
    "#Split the data into training and test set.  60% training and %40 test\n",
    "X_train, X_test, y_train, y_test = train_test_split(X, y, test_size=0.4)\n"
   ]
  },
  {
   "cell_type": "markdown",
   "metadata": {},
   "source": [
    "Setting up the output layer"
   ]
  },
  {
   "cell_type": "code",
   "execution_count": 173,
   "metadata": {},
   "outputs": [],
   "source": [
    "def convert_y_to_vect(y):\n",
    "    y_vect = np.zeros((len(y), 10))\n",
    "    for i in range(len(y)):\n",
    "        y_vect[i, y[i]] = 1\n",
    "    return y_vect"
   ]
  },
  {
   "cell_type": "markdown",
   "metadata": {},
   "source": [
    "Converting the training and test targets to vectors "
   ]
  },
  {
   "cell_type": "code",
   "execution_count": 174,
   "metadata": {},
   "outputs": [],
   "source": [
    "# convert digits to vectors\n",
    "y_v_train = convert_y_to_vect(y_train)\n",
    "y_v_test = convert_y_to_vect(y_test)"
   ]
  },
  {
   "cell_type": "code",
   "execution_count": 175,
   "metadata": {},
   "outputs": [
    {
     "name": "stdout",
     "output_type": "stream",
     "text": [
      "[3 0 1 0]\n",
      "[[0. 0. 0. 1. 0. 0. 0. 0. 0. 0.]\n",
      " [1. 0. 0. 0. 0. 0. 0. 0. 0. 0.]\n",
      " [0. 1. 0. 0. 0. 0. 0. 0. 0. 0.]\n",
      " [1. 0. 0. 0. 0. 0. 0. 0. 0. 0.]]\n"
     ]
    }
   ],
   "source": [
    "print(y_train[0:4])\n",
    "print(y_v_train[0:4])"
   ]
  },
  {
   "cell_type": "code",
   "execution_count": 176,
   "metadata": {},
   "outputs": [
    {
     "data": {
      "text/plain": [
       "(1078, 64)"
      ]
     },
     "execution_count": 176,
     "metadata": {},
     "output_type": "execute_result"
    }
   ],
   "source": [
    "X_train.shape"
   ]
  },
  {
   "cell_type": "code",
   "execution_count": 177,
   "metadata": {},
   "outputs": [
    {
     "data": {
      "text/plain": [
       "(1078, 10)"
      ]
     },
     "execution_count": 177,
     "metadata": {},
     "output_type": "execute_result"
    }
   ],
   "source": [
    "y_v_train.shape"
   ]
  },
  {
   "cell_type": "markdown",
   "metadata": {},
   "source": [
    "Creating the neural network"
   ]
  },
  {
   "cell_type": "markdown",
   "metadata": {},
   "source": [
    "### The activation function and its derivative\n",
    "\n",
    "We will use the sigmoid activation function:  $f(z)=\\frac{1}{1+e^{-z}}$\n",
    "\n",
    "The deriviative of the sigmoid function is: $f'(z) = f(z)(1-f(z))$ "
   ]
  },
  {
   "cell_type": "code",
   "execution_count": 13,
   "metadata": {},
   "outputs": [],
   "source": [
    "def f(z):\n",
    "    return 1 / (1 + np.exp(-z))\n",
    "\n",
    "\n",
    "def f_deriv(z):\n",
    "    return f(z) * (1 - f(z))"
   ]
  },
  {
   "cell_type": "markdown",
   "metadata": {},
   "source": [
    "### Creating and initialing W and b\n",
    "We want the weights in W to be different so that during back propagation the nodes on a level will have different gradients and thus have different update values.\n",
    "\n",
    "We want the  weights to be small values, since the sigmoid is almost \"flat\" for large inputs.\n",
    "\n",
    "Next is the code that assigns each weight a number uniformly drawn from $[0.0, 1.0)$.  The code assumes that the number of neurons in each level is in the python list *nn_structure*.\n",
    "\n",
    "In the code, the weights, $W^{(\\ell)}$ and $b^{(\\ell)}$ are held in a python dictionary"
   ]
  },
  {
   "cell_type": "code",
   "execution_count": 14,
   "metadata": {},
   "outputs": [],
   "source": [
    "def setup_and_init_weights(nn_structure):\n",
    "    W = {} #creating a dictionary i.e. a set of key: value pairs\n",
    "    b = {}\n",
    "    for l in range(1, len(nn_structure)):\n",
    "        W[l] = r.random_sample((nn_structure[l], nn_structure[l-1])) #Return “continuous uniform” random floats in the half-open interval [0.0, 1.0). \n",
    "        b[l] = r.random_sample((nn_structure[l],))\n",
    "    return W, b"
   ]
  },
  {
   "cell_type": "markdown",
   "metadata": {},
   "source": [
    "### Initializing $\\triangledown W$ and $\\triangledown b$\n",
    "Creating $\\triangledown W^{(\\ell)}$ and $\\triangledown b^{(\\ell)}$ to have the same size as $W^{(\\ell)}$ and $b^{(\\ell)}$, and setting $\\triangledown W^{(\\ell)}$, and  $\\triangledown b^{(\\ell)}$ to zero"
   ]
  },
  {
   "cell_type": "code",
   "execution_count": 15,
   "metadata": {},
   "outputs": [],
   "source": [
    "def init_tri_values(nn_structure):\n",
    "    tri_W = {}\n",
    "    tri_b = {}\n",
    "    for l in range(1, len(nn_structure)):\n",
    "        tri_W[l] = np.zeros((nn_structure[l], nn_structure[l-1]))\n",
    "        tri_b[l] = np.zeros((nn_structure[l],))\n",
    "    return tri_W, tri_b"
   ]
  },
  {
   "cell_type": "markdown",
   "metadata": {},
   "source": [
    "## Feed forward\n",
    "Perform a forward pass throught the network.  The function returns the values of $a$ and $z$"
   ]
  },
  {
   "cell_type": "code",
   "execution_count": 16,
   "metadata": {},
   "outputs": [],
   "source": [
    "def feed_forward(x, W, b):\n",
    "    a = {1: x} # create a dictionary for holding the a values for all levels\n",
    "    z = { } # create a dictionary for holding the z values for all the layers\n",
    "    for l in range(1, len(W) + 1): # for each layer\n",
    "        node_in = a[l]\n",
    "        z[l+1] = W[l].dot(node_in) + b[l]  # z^(l+1) = W^(l)*a^(l) + b^(l)\n",
    "        a[l+1] = f(z[l+1]) # a^(l+1) = f(z^(l+1))\n",
    "    return a, z"
   ]
  },
  {
   "cell_type": "markdown",
   "metadata": {},
   "source": [
    "## Compute $\\delta$\n",
    "The code below compute $\\delta^{(s_l)}$ in a function called \"calculate_out_layer_delta\",  and  computes $\\delta^{(\\ell)}$ for the hidden layers in the function called \"calculate_hidden_delta\".  \n",
    "\n",
    "If we wanted to have a different cost function, we would change the \"calculate_out_layer_delta\" function.\n"
   ]
  },
  {
   "cell_type": "code",
   "execution_count": 17,
   "metadata": {},
   "outputs": [],
   "source": [
    "def calculate_out_layer_delta(y, a_out, z_out):\n",
    "    # delta^(nl) = -(y_i - a_i^(nl)) * f'(z_i^(nl))\n",
    "    return -(y-a_out) * f_deriv(z_out) \n",
    "\n",
    "\n",
    "def calculate_hidden_delta(delta_plus_1, w_l, z_l):\n",
    "    # delta^(l) = (transpose(W^(l)) * delta^(l+1)) * f'(z^(l))\n",
    "    return np.dot(np.transpose(w_l), delta_plus_1) * f_deriv(z_l)"
   ]
  },
  {
   "cell_type": "markdown",
   "metadata": {},
   "source": [
    "## The Back Propagation Algorithm\n"
   ]
  },
  {
   "cell_type": "code",
   "execution_count": 18,
   "metadata": {},
   "outputs": [],
   "source": [
    "W,b = setup_and_init_weights([64, 30, 10])"
   ]
  },
  {
   "cell_type": "code",
   "execution_count": 19,
   "metadata": {},
   "outputs": [],
   "source": [
    "def train_nn(nn_structure, X, y, iter_num=3000, alpha=0.25):\n",
    "    W, b = setup_and_init_weights(nn_structure)\n",
    "    cnt = 0\n",
    "    N = len(y)\n",
    "    avg_cost_func = []\n",
    "    print('Starting gradient descent for {} iterations'.format(iter_num))\n",
    "    while cnt < iter_num:\n",
    "        if cnt%1000 == 0:\n",
    "            print('Iteration {} of {}'.format(cnt, iter_num))\n",
    "        tri_W, tri_b = init_tri_values(nn_structure)\n",
    "        avg_cost = 0\n",
    "        for i in range(N):\n",
    "            delta = {}\n",
    "            # perform the feed forward pass and return the stored a and z values, to be used in the\n",
    "            # gradient descent step\n",
    "            a, z = feed_forward(X[i, :], W, b)\n",
    "            # loop from nl-1 to 1 backpropagating the errors\n",
    "            for l in range(len(nn_structure), 0, -1):\n",
    "                if l == len(nn_structure):\n",
    "                    delta[l] = calculate_out_layer_delta(y[i,:], a[l], z[l])\n",
    "                    avg_cost += np.linalg.norm((y[i,:]-a[l]))\n",
    "                else:\n",
    "                    if l > 1:\n",
    "                        delta[l] = calculate_hidden_delta(delta[l+1], W[l], z[l])\n",
    "                    # triW^(l) = triW^(l) + delta^(l+1) * transpose(a^(l))\n",
    "                    tri_W[l] += np.dot(delta[l+1][:,np.newaxis], np.transpose(a[l][:,np.newaxis]))# np.newaxis increase the number of dimensions\n",
    "                    # trib^(l) = trib^(l) + delta^(l+1)\n",
    "                    tri_b[l] += delta[l+1]\n",
    "        # perform the gradient descent step for the weights in each layer\n",
    "        for l in range(len(nn_structure) - 1, 0, -1):\n",
    "            W[l] += -alpha * (1.0/N * tri_W[l])\n",
    "            b[l] += -alpha * (1.0/N * tri_b[l])\n",
    "        # complete the average cost calculation\n",
    "        avg_cost = 1.0/N * avg_cost\n",
    "        avg_cost_func.append(avg_cost)\n",
    "        cnt += 1\n",
    "    return W, b, avg_cost_func\n",
    "\n",
    "\n",
    "def predict_y(W, b, X, n_layers):\n",
    "    N = X.shape[0]\n",
    "    y = np.zeros((N,))\n",
    "    for i in range(N):\n",
    "        a, z = feed_forward(X[i, :], W, b)\n",
    "        y[i] = np.argmax(a[n_layers])\n",
    "    return y"
   ]
  },
  {
   "cell_type": "markdown",
   "metadata": {},
   "source": [
    "## Running the neural network\n",
    "\n",
    "Our code assumes the size of each layer in our network is held in a list.  The input layer will have 64 neurons (one for each pixel in our 8 by 8 pixelated digit).  Our hidden layer has 30 neurons (you can change this value).  The output layer has 10 neurons.\n",
    "\n",
    "Next we create the python list to hold the number of neurons for each level and then run the neural network code with our training data.\n",
    "\n",
    "This code will take some time..."
   ]
  },
  {
   "cell_type": "code",
   "execution_count": 20,
   "metadata": {},
   "outputs": [
    {
     "name": "stdout",
     "output_type": "stream",
     "text": [
      "Starting gradient descent for 3000 iterations\n",
      "Iteration 0 of 3000\n",
      "Iteration 1000 of 3000\n",
      "Iteration 2000 of 3000\n"
     ]
    }
   ],
   "source": [
    "nn_structure = [64, 30, 10]\n",
    "    \n",
    "# train the NN\n",
    "W, b, avg_cost_func = train_nn(nn_structure, X_train, y_v_train, 3000)"
   ]
  },
  {
   "cell_type": "markdown",
   "metadata": {},
   "source": [
    "### Plotting the learning curve\n"
   ]
  },
  {
   "cell_type": "code",
   "execution_count": 21,
   "metadata": {},
   "outputs": [
    {
     "data": {
      "image/png": "[encoded data removed]",
      "text/plain": [
       "<Figure size 432x288 with 1 Axes>"
      ]
     },
     "metadata": {
      "needs_background": "light"
     },
     "output_type": "display_data"
    }
   ],
   "source": [
    "# plot the avg_cost_func\n",
    "plt.plot(avg_cost_func)\n",
    "plt.ylabel('Average J')\n",
    "plt.xlabel('Iteration number')\n",
    "plt.show()"
   ]
  },
  {
   "cell_type": "markdown",
   "metadata": {},
   "source": [
    "## 5) Assessing accuracy\n",
    "Next we determine what percentage the neural network correctly predicted the handwritten digit correctly on the test set"
   ]
  },
  {
   "cell_type": "code",
   "execution_count": 23,
   "metadata": {},
   "outputs": [
    {
     "name": "stdout",
     "output_type": "stream",
     "text": [
      "Prediction accuracy is 88.03894297635605%\n"
     ]
    }
   ],
   "source": [
    "# get the prediction accuracy and print\n",
    "y_pred = predict_y(W, b, X_test, 3)\n",
    "print('Prediction accuracy is {}%'.format(accuracy_score(y_test, y_pred) * 100))"
   ]
  },
  {
   "cell_type": "code",
   "execution_count": 24,
   "metadata": {},
   "outputs": [],
   "source": [
    "def train_nn(nn_structure, X, y, iter_num=3000, alpha=0.25):\n",
    "    W, b = setup_and_init_weights(nn_structure)\n",
    "    cnt = 0\n",
    "    N = len(y)\n",
    "    avg_cost_func = []\n",
    "    print('Starting gradient descent for {} iterations'.format(iter_num))\n",
    "    while cnt < iter_num:\n",
    "        if cnt%1000 == 0:\n",
    "            print('Iteration {} of {}'.format(cnt, iter_num))\n",
    "        tri_W, tri_b = init_tri_values(nn_structure)\n",
    "        avg_cost = 0\n",
    "        for i in range(N):\n",
    "            delta = {}\n",
    "            # perform the feed forward pass and return the stored a and z values, to be used in the\n",
    "            # gradient descent step\n",
    "            a, z = feed_forward(X[i, :], W, b)\n",
    "            # loop from nl-1 to 1 backpropagating the errors\n",
    "            for l in range(len(nn_structure), 0, -1):\n",
    "                if l == len(nn_structure):\n",
    "                    delta[l] = calculate_out_layer_delta(y[i,:], a[l], z[l])\n",
    "                    avg_cost += np.linalg.norm((y[i,:]-a[l]))\n",
    "                else:\n",
    "                    if l > 1:\n",
    "                        delta[l] = calculate_hidden_delta(delta[l+1], W[l], z[l])\n",
    "                    # triW^(l) = triW^(l) + delta^(l+1) * transpose(a^(l))\n",
    "                    tri_W[l] += np.dot(delta[l+1][:,np.newaxis], np.transpose(a[l][:,np.newaxis]))# np.newaxis increase the number of dimensions\n",
    "                    # trib^(l) = trib^(l) + delta^(l+1)\n",
    "                    tri_b[l] += delta[l+1]\n",
    "        # perform the gradient descent step for the weights in each layer\n",
    "        for l in range(len(nn_structure) - 1, 0, -1):\n",
    "            W[l] += -alpha * (1.0/N * tri_W[l]+0.008/2*W[l])\n",
    "            b[l] += -alpha * (1.0/N * tri_b[l])\n",
    "        # complete the average cost calculation\n",
    "        avg_cost = 1.0/N * avg_cost\n",
    "        avg_cost_func.append(avg_cost)\n",
    "        cnt += 1\n",
    "    return W, b, avg_cost_func\n",
    "\n",
    "\n",
    "def predict_y(W, b, X, n_layers):\n",
    "    N = X.shape[0]\n",
    "    y = np.zeros((N,))\n",
    "    for i in range(N):\n",
    "        a, z = feed_forward(X[i, :], W, b)\n",
    "        y[i] = np.argmax(a[n_layers])\n",
    "    return y"
   ]
  },
  {
   "cell_type": "code",
   "execution_count": 25,
   "metadata": {},
   "outputs": [
    {
     "name": "stdout",
     "output_type": "stream",
     "text": [
      "Starting gradient descent for 3000 iterations\n",
      "Iteration 0 of 3000\n",
      "Iteration 1000 of 3000\n",
      "Iteration 2000 of 3000\n"
     ]
    }
   ],
   "source": [
    "nn_structure = [64, 30, 10]\n",
    "    \n",
    "# train the NN\n",
    "W, b, avg_cost_func = train_nn(nn_structure, X_train, y_v_train, 3000)"
   ]
  },
  {
   "cell_type": "code",
   "execution_count": 26,
   "metadata": {},
   "outputs": [
    {
     "data": {
      "image/png": "[encoded data removed]",
      "text/plain": [
       "<Figure size 432x288 with 1 Axes>"
      ]
     },
     "metadata": {
      "needs_background": "light"
     },
     "output_type": "display_data"
    }
   ],
   "source": [
    "# plot the avg_cost_func\n",
    "plt.plot(avg_cost_func)\n",
    "plt.ylabel('Average J')\n",
    "plt.xlabel('Iteration number')\n",
    "plt.show()"
   ]
  },
  {
   "cell_type": "code",
   "execution_count": 27,
   "metadata": {},
   "outputs": [
    {
     "name": "stdout",
     "output_type": "stream",
     "text": [
      "Prediction accuracy is 86.50904033379693%\n"
     ]
    }
   ],
   "source": [
    "# get the prediction accuracy and print\n",
    "\n",
    "y_pred = predict_y(W, b, X_test, 3)\n",
    "print('Prediction accuracy is {}%'.format(accuracy_score(y_test, y_pred) * 100))"
   ]
  },
  {
   "cell_type": "markdown",
   "metadata": {},
   "source": [
    "# 1.2 train the data with CNN"
   ]
  },
  {
   "cell_type": "markdown",
   "metadata": {},
   "source": [
    "Code modified from https://towardsdatascience.com/convolutional-neural-networks-from-the-ground-up-c67bb41454e1"
   ]
  },
  {
   "cell_type": "code",
   "execution_count": 147,
   "metadata": {},
   "outputs": [],
   "source": [
    "def conv(image, label, params, conv_s, pool_f, pool_s):\n",
    "    \n",
    "    [f1, f2, w1, w2, b1, b2, b3, b4] = params \n",
    "    #w1 &b3 are layer1, w2 &b4 are layer 2, f1&b1 are convolution of layer1, f2&b2 are  convolution of layer2\n",
    "    \n",
    "    #feedforward\n",
    "    conv1 = convolution(image, f1, b1, conv_s)\n",
    "    conv1[conv1<=0] = 0 #use Relu instead of f(z)\n",
    "    #conv1 = f(conv1)\n",
    "       \n",
    "    conv2 = convolution(conv1, f2, b2, conv_s)\n",
    "    conv2[conv2<=0] = 0\n",
    "    #conv2 = f(conv2)\n",
    "    \n",
    "    pooled = maxpool(conv2, pool_f, pool_s) # find the max in neighbours\n",
    "    \n",
    "    (nf2, dim2, _) = pooled.shape\n",
    "    fc = pooled.reshape((nf2 * dim2 * dim2, 1))\n",
    "    z = w1.dot(fc) + b3\n",
    "    #z = f(z)\n",
    "    z[z<=0] = 0 \n",
    "    \n",
    "    out = w2.dot(z) + b4\n",
    "     \n",
    "    probs = softmax(out) \n",
    "    loss = categoricalCrossEntropy(probs, label)\n",
    "    \n",
    "    #backpropagation\n",
    "\n",
    "    dout = probs - label \n",
    "    dw2 = dout.dot(z.T) \n",
    "    db4 = np.sum(dout, axis = 1).reshape(b4.shape)\n",
    "    \n",
    "    dz = w2.T.dot(dout) \n",
    "    #dz = f_deriv(dz)\n",
    "    dz[z<=0] = 0 # backpropagate through ReLU \n",
    "    dw1 = dz.dot(fc.T)\n",
    "    db3 = np.sum(dz, axis = 1).reshape(b3.shape)\n",
    "    \n",
    "    dfc = w1.T.dot(dz) \n",
    "    dpool = dfc.reshape(pooled.shape) # reshape fully connected into dimensions of pooling layer\n",
    "    \n",
    "    dconv2 = maxpoolBackward(dpool, conv2, pool_f, pool_s) \n",
    "    dconv2[conv2<=0] = 0 # backpropagate through ReLU\n",
    "    #dconv2 = f_deriv(dconv2)\n",
    "    \n",
    "    dconv1, df2, db2 = convolutionBackward(dconv2, conv1, f2, conv_s) \n",
    "    dconv1[conv1<=0] = 0 # backpropagate through ReLU\n",
    "    #dconv1 = f_deriv(dconv1)\n",
    "    \n",
    "    dimage, df1, db1 = convolutionBackward(dconv1, image, f1, conv_s)\n",
    "    \n",
    "    grads = [df1, df2, dw1, dw2, db1, db2, db3, db4] \n",
    "    \n",
    "    return grads, loss"
   ]
  },
  {
   "cell_type": "code",
   "execution_count": 148,
   "metadata": {},
   "outputs": [],
   "source": [
    "def initializeFilter(size, scale = 1.0):\n",
    "    stddev = scale/np.sqrt(np.prod(size))\n",
    "    return np.random.normal(loc = 0, scale = stddev, size = size)\n",
    "\n",
    "def initializeWeight(size):\n",
    "    return np.random.standard_normal(size=size) * 0.005"
   ]
  },
  {
   "cell_type": "code",
   "execution_count": 149,
   "metadata": {},
   "outputs": [],
   "source": [
    "def setup_and_init_weights_cnn(nn_structure):\n",
    "\n",
    "    W = np.random.standard_normal(size=nn_structure)*0.01\n",
    "    b = np.zeros((W.shape[0],1))\n",
    "    return W, b"
   ]
  },
  {
   "cell_type": "code",
   "execution_count": 150,
   "metadata": {},
   "outputs": [],
   "source": [
    "def graduate_descent(batch, num_classes, alpha, dim, n_c, beta1, beta2, params, cost):\n",
    "    '''\n",
    "    update the parameters through Adam gradient descent.\n",
    "    '''\n",
    "    [f1, f2, w1, w2, b1, b2, b3, b4] = params\n",
    "    \n",
    "    X = batch[:,0:-1] # get batch inputs\n",
    "    X = X.reshape(len(batch), n_c, dim, dim)\n",
    "    Y = batch[:,-1] # get batch labels\n",
    "    \n",
    "    cost_ = 0\n",
    "    batch_size = len(batch)\n",
    "    \n",
    "    # initialize gradients and momentum,RMS params\n",
    "    df1 = np.zeros(f1.shape)\n",
    "    df2 = np.zeros(f2.shape)\n",
    "    dw1 = np.zeros(w1.shape)\n",
    "    dw2 = np.zeros(w2.shape)\n",
    "    db1 = np.zeros(b1.shape)\n",
    "    db2 = np.zeros(b2.shape)\n",
    "    db3 = np.zeros(b3.shape)\n",
    "    db4 = np.zeros(b4.shape)\n",
    "    \n",
    "    v1 = np.zeros(f1.shape)\n",
    "    v2 = np.zeros(f2.shape)\n",
    "    v3 = np.zeros(w1.shape)\n",
    "    v4 = np.zeros(w2.shape)\n",
    "    bv1 = np.zeros(b1.shape)\n",
    "    bv2 = np.zeros(b2.shape)\n",
    "    bv3 = np.zeros(b3.shape)\n",
    "    bv4 = np.zeros(b4.shape)\n",
    "    \n",
    "    s1 = np.zeros(f1.shape)\n",
    "    s2 = np.zeros(f2.shape)\n",
    "    s3 = np.zeros(w1.shape)\n",
    "    s4 = np.zeros(w2.shape)\n",
    "    bs1 = np.zeros(b1.shape)\n",
    "    bs2 = np.zeros(b2.shape)\n",
    "    bs3 = np.zeros(b3.shape)\n",
    "    bs4 = np.zeros(b4.shape)\n",
    "    \n",
    "    for i in range(batch_size):\n",
    "        \n",
    "        x = X[i]\n",
    "        y = np.eye(num_classes)[int(Y[i])].reshape(num_classes, 1) # convert label to one-hot\n",
    "        \n",
    "        # Collect Gradients for training example\n",
    "        grads, loss = conv(x, y, params, 1, 2, 2)\n",
    "        [df1_, df2_, dw1_, dw2_, db1_, db2_, db3_, db4_] = grads\n",
    "        \n",
    "        df1+=df1_\n",
    "        db1+=db1_\n",
    "        df2+=df2_\n",
    "        db2+=db2_\n",
    "        dw1+=dw1_\n",
    "        db3+=db3_\n",
    "        dw2+=dw2_\n",
    "        db4+=db4_\n",
    "\n",
    "        cost_+= loss\n",
    "\n",
    "    # Parameter Update  \n",
    "        \n",
    "    v1 = beta1*v1 + (1-beta1)*df1/batch_size # momentum update\n",
    "    s1 = beta2*s1 + (1-beta2)*(df1/batch_size)**2 # RMSProp update\n",
    "    f1 -= alpha * v1/np.sqrt(s1+1e-7) # combine momentum and RMSProp to perform update with Adam\n",
    "    \n",
    "    bv1 = beta1*bv1 + (1-beta1)*db1/batch_size\n",
    "    bs1 = beta2*bs1 + (1-beta2)*(db1/batch_size)**2\n",
    "    b1 -= alpha * bv1/np.sqrt(bs1+1e-7)\n",
    "   \n",
    "    v2 = beta1*v2 + (1-beta1)*df2/batch_size\n",
    "    s2 = beta2*s2 + (1-beta2)*(df2/batch_size)**2\n",
    "    f2 -= alpha * v2/np.sqrt(s2+1e-7)\n",
    "                       \n",
    "    bv2 = beta1*bv2 + (1-beta1) * db2/batch_size\n",
    "    bs2 = beta2*bs2 + (1-beta2)*(db2/batch_size)**2\n",
    "    b2 -= alpha * bv2/np.sqrt(bs2+1e-7)\n",
    "    \n",
    "    v3 = beta1*v3 + (1-beta1) * dw1/batch_size\n",
    "    s3 = beta2*s3 + (1-beta2)*(dw1/batch_size)**2\n",
    "    w1 -= alpha * v3/np.sqrt(s3+1e-7)\n",
    "    \n",
    "    bv3 = beta1*bv3 + (1-beta1) * db3/batch_size\n",
    "    bs3 = beta2*bs3 + (1-beta2)*(db3/batch_size)**2\n",
    "    b3 -= alpha * bv3/np.sqrt(bs3+1e-7)\n",
    "    \n",
    "    v4 = beta1*v4 + (1-beta1) * dw2/batch_size\n",
    "    s4 = beta2*s4 + (1-beta2)*(dw2/batch_size)**2\n",
    "    w2 -= alpha * v4 / np.sqrt(s4+1e-7)\n",
    "    \n",
    "    bv4 = beta1*bv4 + (1-beta1)*db4/batch_size\n",
    "    bs4 = beta2*bs4 + (1-beta2)*(db4/batch_size)**2\n",
    "    b4 -= alpha * bv4 / np.sqrt(bs4+1e-7)\n",
    "    \n",
    "\n",
    "    cost_ = cost_/batch_size\n",
    "    cost.append(cost_)\n",
    "\n",
    "    params = [f1, f2, w1, w2, b1, b2, b3, b4]\n",
    "    \n",
    "    return params, cost"
   ]
  },
  {
   "cell_type": "code",
   "execution_count": 151,
   "metadata": {},
   "outputs": [],
   "source": [
    "def train(X,y,num_classes = 10, alpha = 0.01, beta1 = 0.95, beta2 = 0.99, img_dim = 8, img_depth = 1, f = 5, num_filt1 = 32, num_filt2 = 32, batch_size = 32, num_epochs = 2):\n",
    "    # after you change the img_dim, you should change f as well as w3(line208 to make sure two matrix can dot)\n",
    "    # training data\n",
    "\n",
    "    #m =50\n",
    "    #digits = load_digits()\n",
    "    #X = digits.data\n",
    "    #X = extract_data('train-images-idx3-ubyte.gz', m, img_dim)\n",
    "\n",
    "    \n",
    "    #y_dash = np.array([[yy] for yy in digits.target])\n",
    "    #y_dash = extract_labels('train-labels-idx1-ubyte.gz', m).reshape(m,1)\n",
    "    train_data = np.hstack((X,y))\n",
    "    \n",
    "    np.random.shuffle(train_data)\n",
    "\n",
    "    ## Initializing all the parameters\n",
    "    if img_dim ==28:\n",
    "        f = 5\n",
    "        num_filt1 = 8\n",
    "        num_filt2 = 8\n",
    "        f1, f2, w1, w2 = (num_filt1 ,img_depth,f,f), (num_filt2 ,num_filt1,f,f), (128,800), (10, 128)\n",
    "\n",
    "    elif img_dim == 8:\n",
    "        f = 2\n",
    "        f1, f2, w1, w2 = (num_filt1 ,img_depth,f,f), (num_filt2 ,num_filt1,f,f), (128,288), (10, 128)\n",
    "    else:\n",
    "        print(\"Thia img_dim has not been implemented\")\n",
    "    f1 = initializeFilter(f1)\n",
    "    f2 = initializeFilter(f2)\n",
    "    w1,b3 = setup_and_init_weights_cnn(w1)\n",
    "    w2,b4 = setup_and_init_weights_cnn(w2)\n",
    "    b1 = np.zeros((f1.shape[0],1))\n",
    "    b2 = np.zeros((f2.shape[0],1))\n",
    "\n",
    "    params = [f1, f2, w1, w2, b1, b2, b3, b4]\n",
    "\n",
    "    cost = []\n",
    "\n",
    "    print(\"LR:\"+str(alpha)+\", Batch Size:\"+str(batch_size))\n",
    "\n",
    "    for epoch in range(num_epochs):\n",
    "        np.random.shuffle(train_data)\n",
    "        batches = [train_data[k:k + batch_size] for k in range(0, train_data.shape[0], batch_size)]\n",
    "        for batch in batches:\n",
    "            params, cost = graduate_descent(batch, num_classes, alpha, img_dim, img_depth, beta1, beta2, params, cost)\n",
    "    \n",
    "    return (params, cost)"
   ]
  },
  {
   "cell_type": "code",
   "execution_count": 152,
   "metadata": {},
   "outputs": [],
   "source": [
    "def convolution(image, filt, bias, s=1):\n",
    "    '''\n",
    "    Confolves `filt` over `image` using stride `s`\n",
    "    '''\n",
    "    (n_f, n_c_f, f, _) = filt.shape # filter dimensions\n",
    "    n_c, in_dim, _ = image.shape # image dimensions\n",
    "    \n",
    "    out_dim = int((in_dim - f)/s)+1 # calculate output dimensions\n",
    "    \n",
    "    \n",
    "    out = np.zeros((n_f,out_dim,out_dim))\n",
    "    \n",
    "    # convolve the filter over every part of the image, adding the bias at each step. \n",
    "    for curr_f in range(n_f):\n",
    "        curr_y = out_y = 0\n",
    "        while curr_y + f <= in_dim:\n",
    "            curr_x = out_x = 0\n",
    "            while curr_x + f <= in_dim:\n",
    "                out[curr_f, out_y, out_x] = np.sum(filt[curr_f] * image[:,curr_y:curr_y+f, curr_x:curr_x+f]) + bias[curr_f]\n",
    "                curr_x += s\n",
    "                out_x += 1\n",
    "            curr_y += s\n",
    "            out_y += 1\n",
    "        \n",
    "    return out"
   ]
  },
  {
   "cell_type": "code",
   "execution_count": 153,
   "metadata": {},
   "outputs": [],
   "source": [
    "def maxpool(image, f=2, s=2):\n",
    "    '''\n",
    "    Downsample `image` using kernel size `f` and stride `s`\n",
    "    '''\n",
    "    n_c, h_prev, w_prev = image.shape\n",
    "    \n",
    "    h = int((h_prev - f)/s)+1\n",
    "    w = int((w_prev - f)/s)+1\n",
    "    \n",
    "    downsampled = np.zeros((n_c, h, w))\n",
    "    for i in range(n_c):\n",
    "        # slide maxpool window over each part of the image and assign the max value at each step to the output\n",
    "        curr_y = out_y = 0\n",
    "        while curr_y + f <= h_prev:\n",
    "            curr_x = out_x = 0\n",
    "            while curr_x + f <= w_prev:\n",
    "                downsampled[i, out_y, out_x] = np.max(image[i, curr_y:curr_y+f, curr_x:curr_x+f])\n",
    "                curr_x += s\n",
    "                out_x += 1\n",
    "            curr_y += s\n",
    "            out_y += 1\n",
    "    return downsampled\n",
    "def softmax(X):\n",
    "    out = np.exp(X)\n",
    "    return out/np.sum(out)\n",
    "def categoricalCrossEntropy(probs, label):\n",
    "    return -np.sum(label * np.log(probs))"
   ]
  },
  {
   "cell_type": "code",
   "execution_count": 154,
   "metadata": {},
   "outputs": [],
   "source": [
    "def convolutionBackward(dconv_prev, conv_in, filt, s):\n",
    "    '''\n",
    "    Backpropagation through a convolutional layer. \n",
    "    '''\n",
    "    (n_f, n_c, f, _) = filt.shape\n",
    "    (_, orig_dim, _) = conv_in.shape\n",
    "    ## initialize derivatives\n",
    "    dout = np.zeros(conv_in.shape) \n",
    "    dfilt = np.zeros(filt.shape)\n",
    "    dbias = np.zeros((n_f,1))\n",
    "    for curr_f in range(n_f):\n",
    "        # loop through all filters\n",
    "        curr_y = out_y = 0\n",
    "        while curr_y + f <= orig_dim:\n",
    "            curr_x = out_x = 0\n",
    "            while curr_x + f <= orig_dim:\n",
    "                # loss gradient of filter (used to update the filter)\n",
    "                dfilt[curr_f] += dconv_prev[curr_f, out_y, out_x] * conv_in[:, curr_y:curr_y+f, curr_x:curr_x+f]\n",
    "                # loss gradient of the input to the convolution operation (conv1 in the case of this network)\n",
    "                dout[:, curr_y:curr_y+f, curr_x:curr_x+f] += dconv_prev[curr_f, out_y, out_x] * filt[curr_f] \n",
    "                curr_x += s\n",
    "                out_x += 1\n",
    "            curr_y += s\n",
    "            out_y += 1\n",
    "        # loss gradient of the bias\n",
    "        dbias[curr_f] = np.sum(dconv_prev[curr_f])\n",
    "    \n",
    "    return dout, dfilt, dbias"
   ]
  },
  {
   "cell_type": "code",
   "execution_count": 155,
   "metadata": {},
   "outputs": [],
   "source": [
    "def maxpoolBackward(dpool, orig, f, s):\n",
    "    '''\n",
    "    Backpropagation through a maxpooling layer. The gradients are passed through the indices of greatest value in the original maxpooling during the forward step.\n",
    "    '''\n",
    "    (n_c, orig_dim, _) = orig.shape\n",
    "    \n",
    "    dout = np.zeros(orig.shape)\n",
    "    \n",
    "    for curr_c in range(n_c):\n",
    "        curr_y = out_y = 0\n",
    "        while curr_y + f <= orig_dim:\n",
    "            curr_x = out_x = 0\n",
    "            while curr_x + f <= orig_dim:\n",
    "                # obtain index of largest value in input for current window\n",
    "                (a, b) = nanargmax(orig[curr_c, curr_y:curr_y+f, curr_x:curr_x+f])\n",
    "                dout[curr_c, curr_y+a, curr_x+b] = dpool[curr_c, out_y, out_x]\n",
    "                \n",
    "                curr_x += s\n",
    "                out_x += 1\n",
    "            curr_y += s\n",
    "            out_y += 1\n",
    "        \n",
    "    return dout"
   ]
  },
  {
   "cell_type": "code",
   "execution_count": 156,
   "metadata": {},
   "outputs": [],
   "source": [
    "def nanargmax(arr):\n",
    "    idx = np.nanargmax(arr)\n",
    "    idxs = np.unravel_index(idx, arr.shape)\n",
    "    return idxs "
   ]
  },
  {
   "cell_type": "code",
   "execution_count": 162,
   "metadata": {},
   "outputs": [
    {
     "name": "stdout",
     "output_type": "stream",
     "text": [
      "LR:0.02, Batch Size:32\n"
     ]
    }
   ],
   "source": [
    "digits = load_digits()\n",
    "X = digits.data\n",
    "y = np.array([[yy] for yy in digits.target])\n",
    "X_scale = StandardScaler()\n",
    "X = X_scale.fit_transform(digits.data)\n",
    "X_train, X_test, y_train, y_test = train_test_split(digits.data, y, test_size=0.4)\n",
    "img_dim = 8\n",
    "(params, cost) = train(X = X_train, y = y_train,alpha = 0.02, img_dim = img_dim)"
   ]
  },
  {
   "cell_type": "code",
   "execution_count": 163,
   "metadata": {},
   "outputs": [],
   "source": [
    "[f1, f2, w1, w2, b1, b2, b3, b4] = params"
   ]
  },
  {
   "cell_type": "code",
   "execution_count": 164,
   "metadata": {},
   "outputs": [],
   "source": [
    "def predict(image, f1, f2, w1, w2, b1, b2, b3, b4, conv_s = 1, pool_f = 2, pool_s = 2):\n",
    "    '''\n",
    "    Make predictions with trained filters/weights. \n",
    "    '''\n",
    "    conv1 = convolution(image, f1, b1, conv_s) # convolution operation\n",
    "    conv1[conv1<=0] = 0 #relu activation\n",
    "    \n",
    "    conv2 = convolution(conv1, f2, b2, conv_s) # second convolution operation\n",
    "    conv2[conv2<=0] = 0 # pass through ReLU non-linearity\n",
    "    \n",
    "    pooled = maxpool(conv2, pool_f, pool_s) # maxpooling operation\n",
    "    (nf2, dim2, _) = pooled.shape\n",
    "    fc = pooled.reshape((nf2 * dim2 * dim2, 1)) # flatten pooled layer\n",
    "    \n",
    "    z = w1.dot(fc) + b3 # first dense layer\n",
    "    z[z<=0] = 0 # pass through ReLU non-linearity\n",
    "    \n",
    "    out = w2.dot(z) + b4 # second dense layer\n",
    "    probs = softmax(out) # predict class probabilities with the softmax activation function\n",
    "    \n",
    "    return np.argmax(probs), np.max(probs)"
   ]
  },
  {
   "cell_type": "code",
   "execution_count": 165,
   "metadata": {},
   "outputs": [
    {
     "name": "stdout",
     "output_type": "stream",
     "text": [
      "ACC: 93.46314325452016\n"
     ]
    }
   ],
   "source": [
    "X = X_test\n",
    "y_dash = y_test\n",
    "X-= int(np.mean(X)) # subtract mean\n",
    "X/= int(np.std(X)) # divide by standard deviation\n",
    "test_data = np.hstack((X,y_dash))\n",
    "    \n",
    "X = test_data[:,0:-1]\n",
    "X = X.reshape(len(test_data), 1,img_dim, img_dim)\n",
    "y = test_data[:,-1]\n",
    "\n",
    "corr = 0\n",
    "digit_count = [0 for i in range(10)]\n",
    "digit_correct = [0 for i in range(10)]\n",
    "   \n",
    "#t = tqdm(range(len(X)), leave=True)\n",
    "\n",
    "for i in range(len(X)):\n",
    "    x = X[i]\n",
    "    pred, prob = predict(x, f1, f2, w1, w2, b1, b2, b3, b4)\n",
    "    digit_count[int(y[i])]+=1\n",
    "    if pred==y[i]:\n",
    "        corr+=1\n",
    "        digit_correct[pred]+=1\n",
    "\n",
    "   # t.set_description(\"Acc:%0.2f%%\" % (float(corr/(i+1))*100))\n",
    "        \n",
    "print(\"ACC: \"+ str(float(corr/len(test_data)*100)))"
   ]
  },
  {
   "cell_type": "code",
   "execution_count": null,
   "metadata": {},
   "outputs": [],
   "source": []
  },
  {
   "cell_type": "markdown",
   "metadata": {},
   "source": [
    "## 2 data from http://yann.lecun.com/exdb/mnist/"
   ]
  },
  {
   "cell_type": "markdown",
   "metadata": {},
   "source": [
    "## 2.1 Using the network in homework"
   ]
  },
  {
   "cell_type": "code",
   "execution_count": 129,
   "metadata": {},
   "outputs": [
    {
     "data": {
      "text/plain": [
       "<Figure size 432x288 with 0 Axes>"
      ]
     },
     "metadata": {},
     "output_type": "display_data"
    },
    {
     "data": {
      "image/png": "[encoded data removed]",
      "text/plain": [
       "<Figure size 288x288 with 1 Axes>"
      ]
     },
     "metadata": {
      "needs_background": "light"
     },
     "output_type": "display_data"
    }
   ],
   "source": [
    "## data from http://yann.lecun.com/exdb/mnist/\n",
    "import gzip\n",
    "def extract_data(filename, num_images, IMAGE_WIDTH):\n",
    "    with gzip.open(filename) as bytestream:\n",
    "        bytestream.read(16)\n",
    "        buf = bytestream.read(IMAGE_WIDTH * IMAGE_WIDTH * num_images)\n",
    "        data = np.frombuffer(buf, dtype=np.uint8).astype(np.float32)\n",
    "        data = data.reshape(num_images, IMAGE_WIDTH*IMAGE_WIDTH)\n",
    "        return data\n",
    "\n",
    "def extract_labels(filename, num_images):\n",
    "    with gzip.open(filename) as bytestream:\n",
    "        bytestream.read(8)\n",
    "        buf = bytestream.read(1 * num_images)\n",
    "        labels = np.frombuffer(buf, dtype=np.uint8).astype(np.int64)\n",
    "    return labels\n",
    "    #m =50\n",
    "    #digits = load_digits()\n",
    "    #X = digits.data\n",
    "num_data = 1000\n",
    "X_train = extract_data('train-images-idx3-ubyte.gz', num_data, 28)\n",
    "\n",
    "y_train = extract_labels('train-labels-idx1-ubyte.gz', num_data)\n",
    "\n",
    "X_test = extract_data('t10k-images-idx3-ubyte.gz', num_data, 28)\n",
    "y_test = extract_labels('t10k-labels-idx1-ubyte.gz', num_data)\n",
    "    #y_dash = np.array([[yy] for yy in digits.target])\n",
    "    #y_dash = extract_labels('train-labels-idx1-ubyte.gz', m).reshape(m,1)\n",
    "X_train = X_train.reshape(num_data,28,28)\n",
    "\n",
    "plt.gray()\n",
    "plt.matshow(X_train[0])\n",
    "plt.show()\n",
    "X_train = X_train.reshape(num_data,28*28)\n",
    "X_test = X_test.reshape(num_data,28*28)"
   ]
  },
  {
   "cell_type": "code",
   "execution_count": 130,
   "metadata": {},
   "outputs": [
    {
     "data": {
      "text/plain": [
       "(784,)"
      ]
     },
     "execution_count": 130,
     "metadata": {},
     "output_type": "execute_result"
    }
   ],
   "source": [
    "X_train-= int(np.mean(X_train))\n",
    "X_train/= int(np.std(X_train))\n",
    "X_test-= int(np.mean(X_test))\n",
    "X_test/= int(np.std(X_test))\n",
    "\n",
    "X_train[0].shape # Looking the new features after scaling\n"
   ]
  },
  {
   "cell_type": "code",
   "execution_count": 131,
   "metadata": {},
   "outputs": [
    {
     "data": {
      "text/plain": [
       "(1000, 784)"
      ]
     },
     "execution_count": 131,
     "metadata": {},
     "output_type": "execute_result"
    }
   ],
   "source": [
    "X_train.shape"
   ]
  },
  {
   "cell_type": "code",
   "execution_count": 132,
   "metadata": {},
   "outputs": [
    {
     "data": {
      "text/plain": [
       "(300, 10)"
      ]
     },
     "execution_count": 132,
     "metadata": {},
     "output_type": "execute_result"
    }
   ],
   "source": [
    "y_v_train.shape"
   ]
  },
  {
   "cell_type": "code",
   "execution_count": 133,
   "metadata": {
    "scrolled": true
   },
   "outputs": [],
   "source": [
    "def feed_forward(x, W, b):\n",
    "    a = {1: x} # create a dictionary for holding the a values for all levels\n",
    "    z = { } # create a dictionary for holding the z values for all the layers\n",
    "    for l in range(1, len(W) + 1): # for each layer\n",
    "        node_in = a[l]\n",
    "        \n",
    "        z[l+1] = W[l].dot(node_in) + b[l]  # z^(l+1) = W^(l)*a^(l) + b^(l)\n",
    "        a[l+1] = f(z[l+1]) # a^(l+1) = f(z^(l+1))\n",
    "    return a, z"
   ]
  },
  {
   "cell_type": "code",
   "execution_count": 134,
   "metadata": {},
   "outputs": [],
   "source": [
    "#Split the data into training and test set.  60% training and %40 test\n",
    "#X_train, X_test, y_train, y_test = train_test_split(X, y, test_size=0.4)\n"
   ]
  },
  {
   "cell_type": "code",
   "execution_count": 135,
   "metadata": {},
   "outputs": [],
   "source": [
    "# convert digits to vectors\n",
    "y_v_train = convert_y_to_vect(y_train)\n",
    "y_v_test = convert_y_to_vect(y_test)"
   ]
  },
  {
   "cell_type": "code",
   "execution_count": 136,
   "metadata": {},
   "outputs": [],
   "source": [
    "W,b = setup_and_init_weights([64, 30, 10])"
   ]
  },
  {
   "cell_type": "code",
   "execution_count": 137,
   "metadata": {},
   "outputs": [
    {
     "name": "stdout",
     "output_type": "stream",
     "text": [
      "Starting gradient descent for 3000 iterations\n",
      "Iteration 0 of 3000\n",
      "Iteration 1000 of 3000\n",
      "Iteration 2000 of 3000\n"
     ]
    }
   ],
   "source": [
    "nn_structure = [784, 30, 10]\n",
    "    \n",
    "# train the NN\n",
    "W, b, avg_cost_func = train_nn(nn_structure, X_train, y_v_train, 3000)"
   ]
  },
  {
   "cell_type": "code",
   "execution_count": 138,
   "metadata": {},
   "outputs": [
    {
     "data": {
      "image/png": "[encoded data removed]",
      "text/plain": [
       "<Figure size 432x288 with 1 Axes>"
      ]
     },
     "metadata": {
      "needs_background": "light"
     },
     "output_type": "display_data"
    }
   ],
   "source": [
    "# plot the avg_cost_func\n",
    "plt.plot(avg_cost_func)\n",
    "plt.ylabel('Average J')\n",
    "plt.xlabel('Iteration number')\n",
    "plt.show()"
   ]
  },
  {
   "cell_type": "code",
   "execution_count": 139,
   "metadata": {},
   "outputs": [
    {
     "name": "stdout",
     "output_type": "stream",
     "text": [
      "Prediction accuracy is 75.6%\n"
     ]
    }
   ],
   "source": [
    "# get the prediction accuracy and print\n",
    "\n",
    "y_pred = predict_y(W, b, X_test, 3)\n",
    "print('Prediction accuracy is {}%'.format(accuracy_score(y_test, y_pred) * 100))"
   ]
  },
  {
   "cell_type": "markdown",
   "metadata": {},
   "source": [
    "## 2.2 Using CNN"
   ]
  },
  {
   "cell_type": "code",
   "execution_count": 140,
   "metadata": {},
   "outputs": [],
   "source": [
    "num_data =3000\n",
    "X = extract_data('train-images-idx3-ubyte.gz', num_data, 28)\n",
    "y = extract_labels('train-labels-idx1-ubyte.gz', num_data).reshape(num_data,1)\n",
    "#X_scale = StandardScaler()\n",
    "#X = X_scale.fit_transform(X)\n",
    "X-= int(np.mean(X))\n",
    "X/= int(np.std(X))\n",
    "img_dim = 28\n"
   ]
  },
  {
   "cell_type": "code",
   "execution_count": 141,
   "metadata": {},
   "outputs": [],
   "source": [
    "#num_data =500\n",
    "#X = extract_data('train-images-idx3-ubyte.gz', num_data, 28)\n",
    "#y_dash = extract_labels('train-labels-idx1-ubyte.gz', num_data).reshape(num_data,1)\n",
    "\n",
    "#train_data = np.hstack((X,y_dash))"
   ]
  },
  {
   "cell_type": "code",
   "execution_count": 142,
   "metadata": {},
   "outputs": [
    {
     "name": "stdout",
     "output_type": "stream",
     "text": [
      "LR:0.01, Batch Size:32\n"
     ]
    }
   ],
   "source": [
    "(params, cost) = train(X = X, y = y,img_dim = img_dim)"
   ]
  },
  {
   "cell_type": "code",
   "execution_count": 143,
   "metadata": {
    "scrolled": true
   },
   "outputs": [
    {
     "data": {
      "text/plain": [
       "(3000, 1)"
      ]
     },
     "execution_count": 143,
     "metadata": {},
     "output_type": "execute_result"
    }
   ],
   "source": [
    "y.shape"
   ]
  },
  {
   "cell_type": "code",
   "execution_count": 144,
   "metadata": {},
   "outputs": [
    {
     "name": "stdout",
     "output_type": "stream",
     "text": [
      "ACC:94.0\n"
     ]
    },
    {
     "data": {
      "text/plain": [
       "'\\nx = np.arange(10)\\ndigit_recall = [x/y for x,y in zip(digit_correct, digit_count)]\\nplt.xlabel(\\'Digits\\')\\nplt.ylabel(\\'Recall\\')\\nplt.title(\"Recall on Test Set\")\\nplt.bar(x,digit_recall)\\nplt.show()\\n'"
      ]
     },
     "execution_count": 144,
     "metadata": {},
     "output_type": "execute_result"
    }
   ],
   "source": [
    "num_data = 500\n",
    "X = extract_data('t10k-images-idx3-ubyte.gz', num_data, 28)\n",
    "y_dash = extract_labels('t10k-labels-idx1-ubyte.gz', num_data).reshape(num_data,1)\n",
    "    # Normalize the data\n",
    "X-= int(np.mean(X)) # subtract mean\n",
    "X/= int(np.std(X)) # divide by standard deviation\n",
    "test_data = np.hstack((X,y_dash))\n",
    "    \n",
    "X = test_data[:,0:-1]\n",
    "X = X.reshape(len(test_data), 1, 28, 28)\n",
    "y = test_data[:,-1]\n",
    "\n",
    "corr = 0\n",
    "digit_count = [0 for i in range(10)]\n",
    "digit_correct = [0 for i in range(10)]\n",
    "   \n",
    "\n",
    "(f1, f2, w1, w2, b1, b2, b3, b4) = params\n",
    "for i in range(len(X)):\n",
    "    x = X[i]\n",
    "    pred, prob = predict(x, f1, f2, w1, w2, b1, b2, b3, b4)\n",
    "    digit_count[int(y[i])]+=1\n",
    "    if pred==y[i]:\n",
    "        corr+=1\n",
    "        digit_correct[pred]+=1\n",
    "print(\"ACC:\" +str(float(corr/len(test_data)*100)))\n",
    "\"\"\"\n",
    "x = np.arange(10)\n",
    "digit_recall = [x/y for x,y in zip(digit_correct, digit_count)]\n",
    "plt.xlabel('Digits')\n",
    "plt.ylabel('Recall')\n",
    "plt.title(\"Recall on Test Set\")\n",
    "plt.bar(x,digit_recall)\n",
    "plt.show()\n",
    "\"\"\""
   ]
  },
  {
   "cell_type": "markdown",
   "metadata": {},
   "source": [
    "# Results"
   ]
  },
  {
   "cell_type": "code",
   "execution_count": null,
   "metadata": {},
   "outputs": [],
   "source": [
    "Extension: compare CNN with neural network in homework with 2 different dataset to see the differece of their performance"
   ]
  },
  {
   "cell_type": "markdown",
   "metadata": {},
   "source": [
    "For the dataset in homework(1078 samples for traing, 719 samples for test), the neural network in the homework performs better.\n",
    "For minst data（3000 samples for training, 500 samples for test）, CNN performs better.\n",
    "One of the possible reasons is that the data in homework is 8*8 pixels and minst data is 28*28 pixels.\n",
    "Since CNN needs to extract shape from figure and filter the image with a small window to find the significant pixel, it can find the shape with image with more pixels. However, if the image is too small, this method doesn't help much."
   ]
  }
 ],
 "metadata": {
  "kernelspec": {
   "display_name": "Python 3",
   "language": "python",
   "name": "python3"
  },
  "language_info": {
   "codemirror_mode": {
    "name": "ipython",
    "version": 3
   },
   "file_extension": ".py",
   "mimetype": "text/x-python",
   "name": "python",
   "nbconvert_exporter": "python",
   "pygments_lexer": "ipython3",
   "version": "3.7.7"
  }
 },
 "nbformat": 4,
 "nbformat_minor": 2
}
